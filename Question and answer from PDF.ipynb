{
 "cells": [
  {
   "cell_type": "code",
   "execution_count": 1,
   "metadata": {
    "colab": {
     "base_uri": "https://localhost:8080/"
    },
    "executionInfo": {
     "elapsed": 3445,
     "status": "ok",
     "timestamp": 1692376340081,
     "user": {
      "displayName": "Purushothaman Natarajan",
      "userId": "13347130037007284118"
     },
     "user_tz": -330
    },
    "id": "SQqkLVw8ekkl",
    "outputId": "504f4c46-ad91-4c04-e43d-efc292ff76ee"
   },
   "outputs": [
    {
     "name": "stdout",
     "output_type": "stream",
     "text": [
      "Drive already mounted at /content/drive; to attempt to forcibly remount, call drive.mount(\"/content/drive\", force_remount=True).\n"
     ]
    }
   ],
   "source": [
    "from google.colab import drive\n",
    "drive.mount('/content/drive')"
   ]
  },
  {
   "cell_type": "code",
   "execution_count": 2,
   "metadata": {
    "colab": {
     "base_uri": "https://localhost:8080/"
    },
    "executionInfo": {
     "elapsed": 42931,
     "status": "ok",
     "timestamp": 1692376383008,
     "user": {
      "displayName": "Purushothaman Natarajan",
      "userId": "13347130037007284118"
     },
     "user_tz": -330
    },
    "id": "1iPU0ITTe-Kw",
    "outputId": "6ddf9360-cae5-4abf-f3e9-6728deb0ffa5"
   },
   "outputs": [
    {
     "name": "stdout",
     "output_type": "stream",
     "text": [
      "Requirement already satisfied: PyPDF2 in /usr/local/lib/python3.10/dist-packages (3.0.1)\n",
      "Requirement already satisfied: nltk in /usr/local/lib/python3.10/dist-packages (3.8.1)\n",
      "Requirement already satisfied: click in /usr/local/lib/python3.10/dist-packages (from nltk) (8.1.6)\n",
      "Requirement already satisfied: joblib in /usr/local/lib/python3.10/dist-packages (from nltk) (1.3.2)\n",
      "Requirement already satisfied: regex>=2021.8.3 in /usr/local/lib/python3.10/dist-packages (from nltk) (2023.6.3)\n",
      "Requirement already satisfied: tqdm in /usr/local/lib/python3.10/dist-packages (from nltk) (4.66.1)\n",
      "Requirement already satisfied: autocorrect in /usr/local/lib/python3.10/dist-packages (2.6.1)\n",
      "Requirement already satisfied: transformers in /usr/local/lib/python3.10/dist-packages (4.31.0)\n",
      "Requirement already satisfied: filelock in /usr/local/lib/python3.10/dist-packages (from transformers) (3.12.2)\n",
      "Requirement already satisfied: huggingface-hub<1.0,>=0.14.1 in /usr/local/lib/python3.10/dist-packages (from transformers) (0.16.4)\n",
      "Requirement already satisfied: numpy>=1.17 in /usr/local/lib/python3.10/dist-packages (from transformers) (1.23.5)\n",
      "Requirement already satisfied: packaging>=20.0 in /usr/local/lib/python3.10/dist-packages (from transformers) (23.1)\n",
      "Requirement already satisfied: pyyaml>=5.1 in /usr/local/lib/python3.10/dist-packages (from transformers) (6.0.1)\n",
      "Requirement already satisfied: regex!=2019.12.17 in /usr/local/lib/python3.10/dist-packages (from transformers) (2023.6.3)\n",
      "Requirement already satisfied: requests in /usr/local/lib/python3.10/dist-packages (from transformers) (2.31.0)\n",
      "Requirement already satisfied: tokenizers!=0.11.3,<0.14,>=0.11.1 in /usr/local/lib/python3.10/dist-packages (from transformers) (0.13.3)\n",
      "Requirement already satisfied: safetensors>=0.3.1 in /usr/local/lib/python3.10/dist-packages (from transformers) (0.3.2)\n",
      "Requirement already satisfied: tqdm>=4.27 in /usr/local/lib/python3.10/dist-packages (from transformers) (4.66.1)\n",
      "Requirement already satisfied: fsspec in /usr/local/lib/python3.10/dist-packages (from huggingface-hub<1.0,>=0.14.1->transformers) (2023.6.0)\n",
      "Requirement already satisfied: typing-extensions>=3.7.4.3 in /usr/local/lib/python3.10/dist-packages (from huggingface-hub<1.0,>=0.14.1->transformers) (4.7.1)\n",
      "Requirement already satisfied: charset-normalizer<4,>=2 in /usr/local/lib/python3.10/dist-packages (from requests->transformers) (3.2.0)\n",
      "Requirement already satisfied: idna<4,>=2.5 in /usr/local/lib/python3.10/dist-packages (from requests->transformers) (3.4)\n",
      "Requirement already satisfied: urllib3<3,>=1.21.1 in /usr/local/lib/python3.10/dist-packages (from requests->transformers) (2.0.4)\n",
      "Requirement already satisfied: certifi>=2017.4.17 in /usr/local/lib/python3.10/dist-packages (from requests->transformers) (2023.7.22)\n"
     ]
    }
   ],
   "source": [
    "!pip3 install PyPDF2 #necessary libraries for the module\n",
    "!pip3 install nltk\n",
    "!pip3 install autocorrect\n",
    "!pip3 install transformers"
   ]
  },
  {
   "cell_type": "code",
   "execution_count": 3,
   "metadata": {
    "executionInfo": {
     "elapsed": 6039,
     "status": "ok",
     "timestamp": 1692376389044,
     "user": {
      "displayName": "Purushothaman Natarajan",
      "userId": "13347130037007284118"
     },
     "user_tz": -330
    },
    "id": "-kh34e9gfA-y"
   },
   "outputs": [],
   "source": [
    "import tensorflow as tf\n",
    "import os\n",
    "import warnings\n",
    "warnings.filterwarnings(\"ignore\", category=FutureWarning)\n",
    "warnings.filterwarnings(\"ignore\", category=DeprecationWarning)"
   ]
  },
  {
   "cell_type": "code",
   "execution_count": 4,
   "metadata": {
    "executionInfo": {
     "elapsed": 5,
     "status": "ok",
     "timestamp": 1692376389045,
     "user": {
      "displayName": "Purushothaman Natarajan",
      "userId": "13347130037007284118"
     },
     "user_tz": -330
    },
    "id": "zncAEp40fIzX"
   },
   "outputs": [],
   "source": [
    "import PyPDF2\n",
    "#extracting the pdf file\n",
    "\n",
    "def extract_text_from_pdf(pdf_path):\n",
    "    text = \"\"\n",
    "    with open(pdf_path, \"rb\") as pdf_file:\n",
    "        pdf_reader = PyPDF2.PdfReader(pdf_file)\n",
    "        for page_num in range(len(pdf_reader.pages)):\n",
    "            page = pdf_reader.pages[page_num]\n",
    "            text += page.extract_text()\n",
    "    return text"
   ]
  },
  {
   "cell_type": "code",
   "execution_count": 5,
   "metadata": {
    "colab": {
     "base_uri": "https://localhost:8080/"
    },
    "executionInfo": {
     "elapsed": 619,
     "status": "ok",
     "timestamp": 1692376389661,
     "user": {
      "displayName": "Purushothaman Natarajan",
      "userId": "13347130037007284118"
     },
     "user_tz": -330
    },
    "id": "_Ehytnc2pAzY",
    "outputId": "8dc5cd2b-c2ab-4fde-a503-a8067beff358"
   },
   "outputs": [
    {
     "name": "stderr",
     "output_type": "stream",
     "text": [
      "[nltk_data] Downloading package stopwords to /root/nltk_data...\n",
      "[nltk_data]   Package stopwords is already up-to-date!\n",
      "[nltk_data] Downloading package punkt to /root/nltk_data...\n",
      "[nltk_data]   Package punkt is already up-to-date!\n"
     ]
    }
   ],
   "source": [
    "#text pre-processing libraries\n",
    "\n",
    "import nltk\n",
    "import re\n",
    "nltk.download('stopwords')\n",
    "nltk.download('punkt')\n",
    "from nltk.tokenize import sent_tokenize,word_tokenize\n",
    "from nltk.corpus import stopwords\n",
    "from string import punctuation\n",
    "from nltk.corpus import stopwords, brown"
   ]
  },
  {
   "cell_type": "code",
   "execution_count": 6,
   "metadata": {
    "executionInfo": {
     "elapsed": 5,
     "status": "ok",
     "timestamp": 1692376389662,
     "user": {
      "displayName": "Purushothaman Natarajan",
      "userId": "13347130037007284118"
     },
     "user_tz": -330
    },
    "id": "yWuBBsxoebK6"
   },
   "outputs": [],
   "source": [
    "stop_words  = stopwords.words('english')\n",
    "from autocorrect import Speller\n",
    "from nltk.tokenize import word_tokenize\n",
    "\n",
    "#lower casing the text\n",
    "def to_lower(text):\n",
    "\n",
    "    \"\"\"\n",
    "    Converting text to lower case as in, converting \"Hello\" to  \"hello\" or \"Hi\" to \"hi\".\n",
    "    \"\"\"\n",
    "\n",
    "    # Specll check the words\n",
    "    spell  = Speller(lang='en')\n",
    "\n",
    "    texts = spell(text)\n",
    "\n",
    "    return ' '.join([w.lower() for w in word_tokenize(text)])\n",
    "\n",
    "#cleaning the text\n",
    "def clean_text(lower_case):\n",
    "    # split text phrases into words\n",
    "    words  = nltk.word_tokenize(lower_case)\n",
    "\n",
    "\n",
    "    # Create a list of all the punctuations\n",
    "    punctuations = [ '/', '!', '?', ';', ':', '(',')', '[',']', '-', '_', '%']\n",
    "\n",
    "    # Remove all the special characters\n",
    "    punctuations = re.sub(r'\\W', ' ', str(lower_case))\n",
    "\n",
    "\n",
    "    # Getting rid of all the words that contain numbers in them\n",
    "    w_num = re.sub('\\w*\\d\\w*', '', lower_case).strip()\n",
    "\n",
    "    # remove all single characters\n",
    "    lower_case = re.sub(r'\\s+[a-zA-Z]\\s+', ' ', lower_case)\n",
    "\n",
    "    # Substituting multiple spaces with single space\n",
    "    lower_case = re.sub(r'\\s+', ' ', lower_case, flags=re.I)\n",
    "\n",
    "    # Removing prefixed 'b'\n",
    "    lower_case = re.sub(r'^b\\s+', '', lower_case)\n",
    "\n",
    "    # Removing non-english characters\n",
    "    lower_case = re.sub(r'^b\\s+', '', lower_case)\n",
    "\n",
    "    # Return keywords which are not in stop words\n",
    "    keywords = [word for word in words and word in punctuations and  word in w_num]\n",
    "\n",
    "    return keywords"
   ]
  },
  {
   "cell_type": "code",
   "execution_count": 7,
   "metadata": {
    "executionInfo": {
     "elapsed": 4,
     "status": "ok",
     "timestamp": 1692376389662,
     "user": {
      "displayName": "Purushothaman Natarajan",
      "userId": "13347130037007284118"
     },
     "user_tz": -330
    },
    "id": "blE_ISQU_q6D"
   },
   "outputs": [],
   "source": [
    "def clean_text_basic(text):\n",
    "    # Convert to lowercase\n",
    "    text = text.lower()\n",
    "\n",
    "    # Remove special characters and punctuations\n",
    "    text = re.sub(r'[^a-zA-Z\\s]', '', text)\n",
    "\n",
    "    # Remove extra spaces\n",
    "    text = re.sub(r'\\s+', ' ', text).strip()\n",
    "\n",
    "    # Removing stop words (example using NLTK library)\n",
    "    # Make sure to install NLTK using: !pip install nltk\n",
    "    from nltk.corpus import stopwords\n",
    "    stopwords_list = set(stopwords.words('english'))\n",
    "    tokens = text.split()\n",
    "    tokens = [token for token in tokens if token not in stopwords_list]\n",
    "    text = ' '.join(tokens)\n",
    "\n",
    "    return text"
   ]
  },
  {
   "cell_type": "code",
   "execution_count": 8,
   "metadata": {
    "executionInfo": {
     "elapsed": 4981,
     "status": "ok",
     "timestamp": 1692376394640,
     "user": {
      "displayName": "Purushothaman Natarajan",
      "userId": "13347130037007284118"
     },
     "user_tz": -330
    },
    "id": "ZK5m2xGRgGyj"
   },
   "outputs": [],
   "source": [
    "pdf_path = r\"/content/drive/MyDrive/Q&A from PDF - BERT module/Short-stories-from-100-Selected-Storiespdf.pdf\"\n",
    "text = extract_text_from_pdf(pdf_path)"
   ]
  },
  {
   "cell_type": "code",
   "execution_count": 9,
   "metadata": {
    "executionInfo": {
     "elapsed": 12,
     "status": "ok",
     "timestamp": 1692376394640,
     "user": {
      "displayName": "Purushothaman Natarajan",
      "userId": "13347130037007284118"
     },
     "user_tz": -330
    },
    "id": "RiQ3T9zaebK7"
   },
   "outputs": [],
   "source": [
    "text = clean_text_basic(text)"
   ]
  },
  {
   "cell_type": "code",
   "execution_count": 10,
   "metadata": {
    "colab": {
     "base_uri": "https://localhost:8080/"
    },
    "executionInfo": {
     "elapsed": 10,
     "status": "ok",
     "timestamp": 1692376394640,
     "user": {
      "displayName": "Purushothaman Natarajan",
      "userId": "13347130037007284118"
     },
     "user_tz": -330
    },
    "id": "NCSX-1OyebK7",
    "outputId": "0bb1eba1-63f5-40bb-ca88-9c8e5488b6ad"
   },
   "outputs": [
    {
     "name": "stdout",
     "output_type": "stream",
     "text": [
      " many years generous mint watermelon crops longshot winners new orleans racetrack brilliant banquets given indiana kansas citizens compose north carolina society made south rather fad manhattan manicure lisp softly left forefinger reminds much gentlemans rich mond va oh certainly many lady work war know henry selected stories dixie played darkhaired young man sprang somewhere mosby guerrilla yell waved frantically softbrimmed hat strayed smoke dropped vacant chair table pulled cigarettes evening period reserve thawed one us mentioned three wrzburgers waiter darkhaired young man acknowledged inclusion order smile nod hastened ask question wanted try theory would mind telling began whether fist e rushmore coglan banged table jarred silence excuse said thats question never like hear asked matter man fair judge man postoffice address ive seen kentuckians hated whisky virginians werent descended pocahon tas indianians hadnt written novel mexicans didnt wear velvet trousers silver dollars sewed along seams funny englishmen spendthrift yankees coldblooded southern ers narrowminded westerners new yorkers busy stop hour street watch onearmed grocers clerk cranberries paper bags let man man dont handicap label section pardon said curiosity altogether idle one know south band plays dixie like observe formed belief man applauds air special violence ostensible sectional loyalty invari ably native either secaucus nj district murray hill lyceum harlem river city put opinion test inquiring gentleman interrupted larger theory must confess darkhaired young man spoke became evident mind also moved along set grooves like periwinkle said mysteriously top valley sing toorallooralloo clearly obscure turned coglan ive around world twelve times said know esquimau upernavik sends cincinnati neckties saw goatherder uruguay prize battle creek breakfastfood puzzle competition pay rent room henry selected stories cairo egypt another yokohama year round ive got slippers waiting teahouse shanghai dont tell em cook eggs rio de janeiro seattle mighty little old world whats use bragging north south old manorhouse dale euclid avenue cleveland pikes peak fairfax county va hooligans flats place itll better world quit fools mildewed town ten acres swampland happened born seem genuine cosmopolite said admiringly also seems would decry patriotism relic stone age declared coglan warmly brothers chinamen englishmen zulus patagonians people bend kaw river day petty pride ones city state section country wiped well citizens world ought wandering foreign lands persisted thoughts revert spot dear nary spot interrupted e r coglan flippantly terres trial globular planetary hunk matter slightly flattened poles known earth abode ive met good many objectbound citizens country abroad ive seen men chicago sit gondola venice moonlight night brag drainage canal ive seen southerner intro duced king england hand monarch without batting eyes information grandaunt mothers side related marriage perkinses charleston knew new yorker kidnapped ransom afghanistan bandits people sent money came back kabul agent afghanistan natives said interpreter well slow think oh dont know says begins tell cabdriver sixth avenue broadway ideas dont suit im tied anything isnt miles diameter put e rushmore coglan citizen terrestrial sphere cosmopolite made large adieu left thought saw someone chatter smoke knew left wouldbe periwinkle reduced wrzburger without ability voice aspirations perch melodious upon summit valley sat reflecting upon evident cosmopolite wondering poet managed miss discovery henry selected stories believed men breed traffic cling cities hem child mothers gown e rushmore coglan whole world meditations interrupted tremendous noise conflict another part caf saw heads seated patrons e rushmore coglan stranger engaged terrific battle fought tables like titans glasses crashed men caught hats knocked brunette screamed blonde began sing teas ing cosmopolite sustaining pride reputation earth waiters closed combatants famous flying wedge formation bore outside still resist ing called mccarthy one french garons asked cause conflict man red tie cosmopolite said got hot account things said bum sidewalks water supply place come guy said bewildered man citizen world cosmopolite originally mattawamkeag maine said continued mccarthy wouldnt stand knockin place iii rounds may moon shone bright upon private boardinghouse mrs murphy reference almanac large amount territory discovered upon rays also fell spring heyday hay fever soon follow parks green new leaves buyers western southern trade flowers summerresort agents blowing air answers lawson growing milder handorgans foun tains pinochle playing everywhere windows mrs murphys boardinghouse open group boarders seated high stoop upon round flat mats like german pancakes one secondfloor front windows mrs mccaskey henry selected stories awaited husband supper cooling table heat went mrs mccaskey nine mr mccaskey came carried coat arm pipe teeth apologized disturbing boarders steps selected spots stone set size width ds opened door room received surprise instead usual stovelid potatomasher dodge came words mr mccaskey reckoned benign may moon soft ened breast spouse heard ye came oral substitutes kitchenware ye apollygize riffraff streets settin yer unhandy feet tails frocks yed walk neck yer wife length clothesline without much kiss fut im sure long rubberin windy ye victuals cold theres money buy drinkin yer wages galleghers every saturday evenin gas man twice today woman said mr mccaskey dashing coat hat upon chair noise ye insult appetite ye run politeness ye take mortar bricks foundations society tis exercisin acrimony gentleman ye ask dissent ladies blockin way steppin ye bring pigs face ye windy see food mrs mccaskey arose heavily went stove something manner warned mr mccaskey corners mouth went suddenly like barometer usually foretold fall crockery tinware pigs face said mrs mccaskey hurled stewpan full bacon turnips lord mr mccaskey novice repartee knew follow entree table roast sirloin pork gar nished shamrocks retorted drew appropriate return bread pudding earthen dish hunk swiss cheese accurately thrown husband struck mrs mccaskey one eye replied wellaimed coffeepot full hot black semifragrant liquid battle according courses ended mr mccaskey cent table dhter let cheap bohemians consider coffee end would let make henry selected stories faux pas foxier still fingerbowls beyond compass experience pension murphy equivalent hand triumphantly sent graniteware washbasin head matrimo nial adversary mrs mccaskey dodged time reached flatiron sort cordial hoped bring gastronomical duel close loud wailing scream stairs caused mr mccaskey pause sort involuntary armistice sidewalk corner house policeman cleary standing one ear upturned listening crash household utensils tis jawn mccaskey missus meditated policeman wonder shall go stop row married folks pleasures twill last long sure theyll borrow dishes keep came loud scream belowstairs betokening fear dire extremity tis probably cat said policeman cleary walked hastily direction boarders steps fluttered mr toomey insurance solicitor birth investigator profession went inside analyse scream returned news mrs murphys little boy mike lost following messenger bounced mrs murphy two hundred pounds tears hysterics clutching air howling sky loss thirty pounds freckles mischief bathos truly mr toomey sat side miss purdy milliner hands came together sympathy two old maids misses walsh complained every day noise halls inquired immediately anybody looked behind clock major grigg sat fat wife top step arose buttoned coat little one lost exclaimed scour city wife never allowed dark said go ludovic baritone voice whoever look upon mothers grief without springing relief heart stone give thirty sixty cents love said major lost children sometimes stray far may need carfares old man denny hallroom fourth floor back sat lowest step trying read paper street lamp turned page follow article carpenters strike mrs murphy shrieked moon oh arrmike fr gawds sake little bit av boy henry selected stories whend ye see last asked old man denny one eye report building trades league oh wailed mrs murphy twas yisterday maybe four hours ago dunno lost little boy mike playin sidewalk mornin wednesday im busy work tis hard keep dates ive looked house top cellar gone oh love av hiven silent grim colossal big city ever stood revilers call hard iron say pulse pity beats bosom compare streets lonely forests deserts lava beneath hard crust lobster found delectable luscious food perhaps different simile would wiser still nobody take offence would call one lobster without good sufficient claws calamity touches common heart humanity straying little child feet uncertain feeble ways steep strange major griggs hurried corner avenue billys place gimme ryehigh said servitor havent seen bowlegged dirtyfaced little devil sixyear old lost kid around anywhere mr toomey retained miss purdys hand steps think dear little babe said miss purdy lost mothers side perhaps already fallen beneath iron hoofs galloping steeds oh isnt dreadful aint right agreed mr toomey squeezing hand say start help look um perhaps said miss purdy oh mr toomey dashing reckless suppose enthusiasm accident befall old man denny read arbitration agreement one finger lines second floor front mr mrs mccaskey came window recover second wind mr mccaskey scoop ing turnips vest crooked forefinger lady wiping eye salt roast pork benefited heard outcry thrust heads window tis little mike lost said mrs mccaskey hushed voice beautiful little troublemaking angel gossoon bit boy mislaid said mr mccaskey leaning henry selected stories window thats bad enough entirely childer different twas woman id willin leave peace behind em go disregarding thrust mrs mccaskey caught husbands arm jawn said sentimentally missis murphys little bye lost tis great city losing little boys six years old jawn tis age little bye would one six years ago never said mr mccaskey lingering fact jawn think sorrow would hearts night little phelan run away stolen city nowheres ye talk foolishness said mr mccaskey tis pat would named old father cantrim ye lie said mrs mccaskey without anger brother worth tin dozen bogtrotting mccaskeys would bye named leaned windowsill looked hurrying bustle jawn said mrs mccaskey softly im sorry hasty wid ye twas hasty puddin ye say said husband hurry turnips getamoveonye coffee twas ye could call quick lunch right tell lie mrs mccaskey slipped arm inside husbands took rough hand listen cryin poor mrs murphy said tis awful thing bit bye lost great big city twas little phelan jawn id breakin heart awkwardly mr mccaskey withdrew hand laid around nearing shoulders wife tis foolishness course said roughly id cut meself little pat kidnapped anything never childer us sometimes ive ugly hard ye judy forget leaned together looked heartdrama acted long sat thus people surged along sidewalk crowding questioning filling air rumours inconsequent sur mises mrs murphy ploughed back forth midst like soft mountain plunged audible cataract tears couriers came went henry selected stories loud voices renewed uproar raised front boardinghouse whats judy asked mr mccaskey tis missis murphys voice said mrs mccaskey harking says shes finding little mike asleep behind roll old linoleum bed room mr mccaskey laughed loudly thats yer phelan shouted sardonically divil bit would pat done trick bye never strayed stole powers call phelan see hide bed like mangy pup mrs mccaskey arose heavily went toward dish closet corners mouth drawn policeman cleary came back around corner crowd dispersed surprised upturned ear toward mccaskey apartment crash irons chinaware ring hurled kitchen utensils seemed loud policeman cleary took timepiece deported snakes exclaimed jawn mccaskey lady fightin hour quarter watch missis could give forty pounds weight strength arm policeman cleary strolled back around corner old man denny folded paper hurried steps mrs murphy lock door night iv skylight room first mrs parker would show double parlours would dare interrupt description advantages merits gentleman occupied eight years would manage stammer forth confes sion neither doctor dentist mrs parkers manner receiving admission could never afterward entertain feeling toward parents neglected train one professions fitted mrs parkers parlours next ascended one flight stairs looked second floor back convinced secondfloor manner henry selected stories worth mr toosenberry always paid left take charge brothers orange plantation florida near palm beach mrs mcintyre always spent winters double front room private bath managed babble wanted something still cheaper survived mrs parkers scorn taken look mr skidders large hallroom third floor mr skidders room vacant wrote plays smoked cigarettes day long every roomhunter made visit room admire lambrequins visit mr skidder fright caused possible eviction would pay something rent oh still stood one foot hot hand clutching three moist dollars pocket hoarsely proclaimed hideous culpable poverty never would mrs parker cicerone would honk loudly word clara would show back march downstairs clara coloured maid would escort carpeted ladder served fourth flight show skylight room occupied feet floorspace middle hall side dark lumber closet storeroom iron cot washstand chair shelf dresser four bare walls seemed close upon like sides coin hand crept throat gasped looked well breathed glass little skylight saw square blue infinity two dollars suh clara would say halfcontemptuous halftuskegeenial tones one day miss leeson came hunting room carried typewriter made lugged around much larger lady little girl eyes hair kept growing stopped always looked saying goodness didnt keep us mrs parker showed double parlours closet said one could keep skeleton anaesthetic coal neither doctor dentist said miss leeson shiver mrs parker gave incredulous pitying sneering icy stare kept failed qualify doctors dentists led way second floor back eight dollars said miss leeson dear im hetty henry selected stories look green im poor little working girl show thing higher lower mr skidder jumped strewed floor cigarette stubs rap door excuse mr skidder said mrs parker demons smile pale looks didnt know asked lady look lambrequins theyre lovely anything said miss leeson smiling exactly way angels gone mr skidder got busy erasing tall blackhaired heroine latest unproduced play inserting small roguish one heavy bright hair vivacious features anna heldll jump said mr skidder putting feet lambrequins disappearing cloud smoke like aerial cuttlefish presently tocsin call clara sounded world state miss leesons purse dark goblin seized mounted stygian stairway thrust vault glimmer light top muttered menacing cabalistic words two dollars ill take sighed miss leeson sinking upon squeaky iron bed every day miss leeson went work night brought home papers handwriting made copies typewriter sometimes work night would sit steps high stoop roomers miss leeson intended skylight room plans drawn creation gayhearted full tender whimsical fancies let mr skidder read three acts great unpublished comedy kid heir subway rejoicing among gentlemen roomers whenever miss leeson time sit steps hour two miss longnecker tall blonde taught public school said well really everything said sat top step sniffed miss dorn shot moving ducks coney every sunday worked department store sat bottom step sniffed miss leeson sat middle step men would quickly group around especially mr skidder cast mind star part private romantic unspoken drama real life henry selected stories especially mr hoover fortyfive fat flushed foolish especially young mr evans set hollow cough induce ask leave cigarettes men voted funniest jolliest ever sniffs top step lower step implacable pray let drama halt chorus stalks foot lights drops epicedian tear upon fatness mr hoover tune pipes tragedy tallow bane bulk calamity corpulence tried falstaff might rendered romance ton would romeos rickety ribs ounce lover may sigh must puff train momus fat men remanded vain beats faithfullest heart inch belt avaunt hoover hoover fortyfive flush foolish might carry helen hoover forty five flush foolish fat meat perdition never chance hoover mrs parkers roomers sat thus one summers evening miss leeson looked firmament cried little gay laugh theres billy jackson see looked windows skyscrapers cast ing airship jacksonguided star explained miss leeson pointing tiny finger big one twinkles steady blue one near see every night skylight named billy jack son well really said miss longnecker didnt know astronomer miss leeson oh yes said small stargazer know much style sleeves theyre going wear next fall mars well really said miss longnecker star refer gamma constellation cassiopeia nearly second magnitude meridian passage oh said young mr evans think billy jackson much better name said mr hoover loudly breathing defiance miss longnecker think miss leeson much right name stars old astrologers henry selected stories well really said miss longnecker wonder whether shooting star remarked miss dorn hit nine ducks rabbit ten gallery coney sunday doesnt show well said miss leeson ought see room know see stars even daytime bottom well night room like shaft coalmine makes billy jackson look like big diamond pin night fastens kimono came time miss leeson brought midable papers home copy went morning instead working went office office let heart melt away drip cold refusals transmitted insolent office boys went came evening wearily climbed mrs parkers stoop hour always returned dinner restaurant dinner stepped hall mr hoover met seized chance asked marry fatness hovered like avalanche dodged caught balustrade tried hand raised smote weakly face step step went dragging railing passed mr skidders door redinking stage direc tion myrtle delorme miss leeson unaccepted comedy pirouette across stage l side count carpeted ladder crawled last opened door skylight room weak light lamp undress fell upon iron cot fragile body scarcely hollowing worn springs erebus room slowly raised heavy eyelids smiled billy jackson shining calm bright constant skylight world sunk pit blackness small square pallid light framing star whimsically oh inef fectually named miss longnecker must right gamma constellation cassiopeia billy jackson yet could let gamma lay back tried twice raise arm third time got two thin fingers lips blew kiss black pit billy jackson arm fell back limply goodbye billy murmured faintly youre millions henry selected stories miles away wont even twinkle kept could see time wasnt thing else darkness look didnt millions miles goodbye billy jackson clara coloured maid found door locked ten next day forced open vinegar slapping wrists even burnt feathers proving avail someone ran phone ambulance due time backed door much gongclanging capable young medico white linen coat ready active confident smooth face half debonair half grim danced steps ambulance call said briefly whats trouble oh yes doctor sniffed mrs parker though trouble trouble house greater cant think matter nothing could would bring young woman miss elsie yes miss elsie leeson never house room cried doctor terrible voice mrs parker stranger skylight room evidently ambulance doctor familiar location skylight rooms gone stairs four time mrs parker followed slowly dignity demanded first landing met coming back bearing astronomer arms stopped let loose practised scalpel tongue loudly gradually mrs parker crumpled stiff garment slips nail ever afterwards remained crumples mind body sometimes curious roomers would ask doctor said let would answer get forgiveness heard satisfied ambulance physician strode burden pack hounds follow curiosity chase even fell back along sidewalk abashed face one bears dead noticed lay upon bed prepared ambulance form carried said drive like h l wilson driver story next mornings paper saw little news item last sentence may help helped weld incidents together henry selected stories recounted reception bellevue hospital young woman removed east street suffer ing debility induced starvation concluded words dr william jackson ambulance physician attended case says patient recover v service love one loves ones art service seems hard premise story shall draw conclusion show time premise incorrect new thing logic feat storytelling somewhat older great wall china joe larrabee came postoak flats middle west pulsing genius pictorial art six drew picture town pump prominent citizen passing hastily effort framed hung drug store window side ear corn uneven number rows twenty left new york flowing necktie capital tied somewhat closer delia caruthers things six octaves promisingly pinetree village south relatives chipped enough chip hat go north finish could see f story joe delia met atelier number art music students gathered discuss chiaroscuro wagner music rembrandts works pictures waldteufel wallpaper chopin oolong joe delia became enamoured one please short time married see one loves ones art service seem hard mr mrs larrabee began housekeeping flat lonesome flat something like sharp way left hand end keyboard happy art advice rich young man would sell thou hast give poor janitor privilege living flat art delia flatdwellers shall endorse dictum henry selected stories true happiness home happy cannot fit close let dresser collapse become billiard table let mantel turn rowing machine escritoire spare bedchamber wash stand upright piano let four walls come together delia home kind let wide long enter golden gate hang hat hatteras cape cape horn go labrador joe painting class great magister know fame fees high lessons light highlights brought renown delia studying rosenstock know repute disturber piano keys mighty happy long money lasted every cynical aims clear defined joe become capable soon turning pic tures old gentlemen thin sidewhiskers thick pocket books would sandbag one another studio privilege buying delia become familiar contemptuous music saw orchestra seats boxes unsold could sore throat lobster private diningroom refuse go stage best opinion home life little flat ardent voluble chats days study cosy dinners fresh light breakfasts interchange ambitions ambi tions interwoven others else inconsiderable mutual help inspiration overlook artlessness stuffed olives cheese sandwiches pm awhile art flagged sometimes even switchman doesnt flag everything going nothing coming vulgarians say money lacking pay mr magister herr rosenstock prices one loves ones art service seems hard delia said must give music lessons keep chafing dish bubbling two three days went canvassing pupils one evening came home elated joe dear said gleefully ive pupil oh loveliest people general general b pinkneys daughter seventy first street splendid house joe ought see front door byzantine think would call inside oh joe never saw anything like pupil daughter clementina dearly love already shes delicate thing dresses always white sweetest henry selected stories simplest manners eighteen years old im give three lessons week think joe lesson dont mind bit get two three pupils resume lessons herr rosenstock smooth wrinkle brows dear lets nice supper thats right dele said joe attacking peas carving knife hatchet think im going let hustle wages philander regions high art bones benvenuto cellini guess sell papers lay cobblestones bring dollar two delia came hung neck joe dear silly must keep studies quit music gone work something else teach learn always music live happily millionaires week mustnt think leaving mr magister right said joe reaching blue scalloped vegetable dish hate giving lessons isnt art youre trump dear one loves ones art service seems hard said delia magister praised sky sketch made park said joe tinkle gave permission hang two window may sell one right kind moneyed idiot sees im sure said delia sweetly lets thankful general pinkney veal roast next week larrabees early break fast joe enthusiastic morningeffect sketches central park delia packed breakfasted coddled praised kissed seven oclock art engaging mistress times seven oclock returned evening end week delia sweetly proud languid tri umphantly tossed three fivedollar bills inches centre table feet flat parlour sometimes said little wearily clementina tries im afraid doesnt practise enough tell things often always dresses entirely white get monotonous general pinkney dearest old man wish could know joe comes sometimes henry selected stories clementina piano widower know stands pulling white goatee semiquavers demisemiquavers progressing always asks wish could see wainscoting drawingroom joe astrakhan rug portires clementina funny little cough hope stronger looks oh really getting attached gentle high bred general pinkneys brother minister bolivia joe air monte cristo drew forth ten five two one legal tender notes laid beside delias earnings sold watercolour obelisk man peoria announced overwhelmingly dont joke said delia peoria way wish could see dele fat man woollen muffler quill toothpick saw sketch tinkles window thought windmill first game though bought anyhow ordered another oil sketch lackawanna freight depot take back music lessons oh guess art still im glad youve kept said delia heartily youre bound win dear thirtythree dollars never much spend well oysters tonight filet mignon champignons said joe olive fork next saturday evening joe reached home first spread parlour table washed seemed great deal dark paint hands half hour later delia arrived right hand tied shapeless bundle wraps bandages asked joe usual greetings delia laughed joyously clementina explained insisted upon welsh rabbit lesson queer girl welsh rabbits five afternoon general seen run chafing dish joe wasnt servant house know clementina isnt good health nervous serving rabbit spilled great lot boiling hot hand wrist hurt awfully joe dear girl sorry general pinkney joe old man nearly went dis tracted rushed downstairs sent somebody said henry selected stories furnace man somebody basement drug store oil things bind doesnt hurt much whats asked joe taking hand tenderly pulling white strands beneath bandages something soft said delia oil oh joe sell another sketch seen money table said joe ask man peoria got depot today isnt sure thinks wants another parkscape view hudson time afternoon burn hand dele five oclock think said dele plaintively iron mean rabbit came fire time ought seen general pinkney joe sit moment dele said joe drew couch sat beside put arm across shoulders last two weeks dele asked braved moment two eye full love stubbornness murmured phrase two vaguely general pinkney length went head came truth tears couldnt get pupils confessed couldnt bear give lessons got place ironing shirts big twentyfourth street laundry think well make general pinkney clementina dont joe girl laundry set hot iron hand afternoon way home making story welsh rabbit youre angry joe hadnt got work mightnt sold sketches man peoria wasnt peoria said joe slowly well doesnt matter clever joe kiss joe made ever suspect wasnt giving music lessons clementina didnt said joe tonight wouldnt sent cotton waste oil engineroom afternoon girl upstairs hand burned smoothingiron ive firing engine laundry last two weeks didnt purchaser peoria said joe general pinkney henry selected stories creations art wouldnt call either painting music laughed joe began one loves ones art service seems delia stopped hand lips said one loves vi comingout maggie every saturday night clover leaf social club gave hop hall give take athletic association east side order attend one dances must member give take belong division starts right foot waltzing must work rhinegolds paperbox factory still clover leaf privi leged escort escorted outsider single dance mostly give take brought paperbox girl affected strangers could boast shaken foot regular hops maggie toole account dull eyes broad mouth lefthanded style footwork twostep went dances anna mccarty fellow anna maggie worked side side factory greatest chums ever anna always made jimmy burns take maggies house every saturday night friend could go dance give take athletic association lived name hall association orchard street fitted muscle making inventions fibres thus builded members wont engage police rival social athletic organiza tions joyous combat serious occupations saturday night hops paperbox factory girls came refin ing influence efficient screen sometimes tip went round among elect tiptoed dark back stairway might see neat satisfying little welterweight affair finish ever happened inside ropes saturdays rhinegolds paperbox factory closed pm one afternoon anna maggie walked homeward together maggies door anna said usual ready seven sharp mag jimmy mell come henry selected stories instead customary humble grate ful thanks nonescorted one perceived highpoised head prideful dimpling corners broad mouth almost sparkle dull brown eye thanks anna said maggie jimmy neednt bother tonight ive gentleman friend thats coming round escort hop comely anna pounced upon friend shook chided beseeched maggie toole catch fellow plain dear loyal unattractive maggie sweet chum unsought twostep moonlit bench little park happen youll see tonight said maggie flushed wine first grapes gathered cupids vineyard hes swell right hes two inches taller jimmy uptodate dresser ill introduce anna soon get hall anna jimmy among first clover leafs arrive evening annas eyes brightly fixed upon door hall catch first glimpse friends catch miss toole swept hall escort quickly triumphant eye discovered chum wing faithful jimmy oh gee cried anna mag aint made hit oh swell fellow well guess style look um go far like said jimmy sandpaper voice cop want new guys always win push dont mind dont squeeze limes guess huh shut jimmy know mean im glad mag first fellow ever oh come across floor maggie sailed like coquettish yacht convoyed stately cruiser truly companion justified encomiums faithful chum stood two inches taller average give take athlete dark hair curled eyes teeth flashed whenever bestowed frequent smiles young men clover leaf club pinned faith graces person much prowess achievements handtohand conflicts preservation legal duress constantly menaced member association would bind paperbox maiden conquering chariot scorned employ beau brummel airs considered honourable methods warfare swelling biceps henry selected stories coat straining buttons chest air conscious conviction supereminence male cosmogony creation even calm display bow legs subduing enchant ing agents gentle tourneys cupid approved arms ammunition clover leaf gallants viewed genuflexions alluring poses visitor chins new angle friend mine mr terry osullivan maggies formula introduction led around room presenting newarriving clover leaf almost pretty unique luminosity eyes comes girl first suitor kitten first mouse maggie tooles got fellow last word went round among paperbox girls pipe mags floorwalker thus give takes expressed indifferent contempt usually weekly hops maggie kept spot wall warm back felt showed much gratitude whenever selfsacrificing partner invited dance pleasure cheapened diminished even grown used noticing anna joggle reluctant jimmy elbow signal invite chum walk feet twostep tonight pumpkin turned coach six terry osullivan victorious prince charming maggie toole winged first butterfly flight though tropes fairy land mixed entomology shall spill one drop ambrosia rosecrowned melody maggies one perfect night girls besieged introductions fellow clover leaf young men two years blindness suddenly perceived charms miss toole flexed compelling muscles bespoke dance thus scored terry osullivan honours evening fell thick fast shook curls smiled went easily seven motions acquiring grace room open window ten minutes day danced like faun introduced manner style atmosphere words came trippingly upon tongue waltzed twice succes sion paperbox girl dempsey donovan brought dempsey leader association wore dress suit could chin bar twice one hand one big mike osullivans lieutenants never troubled trouble cop dared arrest whenever broke pushcart mans henry selected stories head shot member heinrick b sweeney outing literary association kneecap officer would drop around say capnd like see ye minutes round office whin ye time dempsey boy would sundry gentlemen large gold fob chains black cigars somebody would tell funny story dempsey would go back work half hour sixpound dumbbells tightrope act wire stretched across niagara safe terpsichorean performance compared waltzing twice dempsey donovans paper box girl ten oclock jolly round face big mike osulli van shone door five minutes upon scene always looked five minutes smiled girls handed real perfectos delighted boys dempsey donovan elbow instantly talking rapidly big mike looked carefully dancers smiled shook head departed music stopped dancers scattered chairs along walls terry osullivan entrancing bow relinquished pretty girl blue partner started back find maggie dempsey intercepted middle floor fine instinct rome must bequeathed us caused nearly every one turn look subtle feeling two gladiators met arena two three give takes tight coatsleeves drew nearer one moment mr osullivan said dempsey hope youre enjoying say lived two gladiators well matched dempsey perhaps ten pounds weight give away osullivan breadth quickness dempsey glacial eye dominating slit mouth indestructible jaw complexion like belles coolness champion visitor showed fire con tempt less control conspicuous sneer ene mies law written rocks molten splendid mighty incomparable divide pre eminence one must survive live grand said osullivan insolently trouble find home live dempsey ignored question say names osullivan went well big mike says never saw henry selected stories lots things never saw said favourite hop rule went dempsey huskily sweet osullivans district know one another escorted one lady members want chance make good youve got family tree lets see historical osullivan buds come want us dig roots suppose mind business suggested osullivan blandly dempseys eyes brightened held inspired forefinger though brilliant idea struck ive got said cordially little mistake aint osullivan ringtailed monkey excuse us recognizing first osullivans eye flashed made quick movement andy geoghan ready caught arm dempsey nodded andy william mcmahan secretary club walked rapidly toward door rear hall two members give take association swiftly joined little group terry osullivan hands board rules social referees spoke briefly softly conducted door rear movement part clover leaf members requires word elucidation back association hall smaller room rented club room personal difficulties arose ballroom floor settled man man weapons nature supervision board lady could say witnessed fight clover leaf hop several years gentlemen members guaranteed easily smoothly dempsey board done preliminary work many hall noticed check ing fascinating osullivans social triumph among maggie looked escort smoke said rose cassidy wasnt demps dono van picked scrap lizzieboy theyve waltzed slaughterroom hows hair look done way mag maggie laid hand bosom cheesecloth waist gone fight dempsey said breathlessly theyve got stopped dempsey donovan cant fight hell hell kill ah care said rosa dont em fight every hop henry selected stories maggie darting zigzag way maze dancers burst rear door dark hall threw solid shoulder door room single combat gave way instant entered eye caught scene board standing open watches dempsey donovan shirtsleeves dancing light footed wary grace modern pugilist within easy reach adversary terry osullivan standing arm folded murderous look dark eyes without slacking speed entrance leaped forward scream leaped time catch hang upon arm osullivan sud denly uplifted whisk long bright stiletto drawn bosom knife fell rang upon floor cold steel drawn rooms give take association thing never happened every one stood motionless minute andy geoghan kicked stiletto toe shoe curiously like antiquarian come upon ancient weapon unknown learning osullivan hissed something unintelligible teeth dempsey board exchanged looks dempsey looked osullivan without anger one looks stray dog nodded head direction door back stairs giuseppi said briefly somebodyll pitch hat maggie walked dempsey donovan brilliant spot red cheeks slow tears running looked bravely eye knew dempsey said eyes grew dull even tears knew guinea names tony spinelli hurried told scrappin guineas always carries knives dont understand dempsey never fellow life got tired comin anna jimmy every night fixed call osullivan brought along knew thered nothin doin came dago guess ill resign club dempsey turned andy geoghan chuck cheese slicer window said tell em inside mr osullivan telephone message go tammany hall turned back maggie henry selected stories say mag said ill see home next sat urday night come hop call around remarkable quickly maggies eyes could change dull shining brown dempsey stammered say duck swim vii cop anthem bench madison square soapy moved uneasily wild goose honk high nights women without sealskin coats grow kind husbands soapy moves uneasily bench park may know winter near hand dead leaf fell soapys lap jack frosts card jack kind regular denizens madison square gives fair warning annual call corners four streets hands pasteboard north wind footman mansion outdoors inhabitants thereof may make ready soapys mind became cognizant fact time come resolve singular committee ways means provide coming rigour therefore moved uneasily bench hibernatorial ambitions soapy highest considerations mediterranean cruises soporific southern skies drifting vesuvian bay three months island soul craved three months assured board bed congenial company safe boreas bluecoats seemed soapy essence things desirable years hospitable blackwells winter quar ters fortunate fellow new yorkers bought tickets palm beach riviera winter soapy made humble arrangements annual hegira island time come previous night three sabbath newspapers distributed beneath coat ankles lap failed repulse cold slept bench near spurting fountain ancient square island loomed large timely soapys mind scorned provisions made name charity citys dependents henry selected stories soapys opinion law benign philanthropy endless round institutions municipal eleemosynary might set receive lodging food accordant simple life one soapys proud spirit gifts charity encumbered coin must pay humiliation spirit every benefit received hands philanthropy caesar brutus every bed charity must toll bath every loaf bread compensation private personal inquisition wherefore better guest law though conducted rules meddle unduly gentlemans private affairs soapy decided go island set accomplishing desire many easy ways pleasantest dine luxuriously expensive restaurant declaring insolvency handed quietly without uproar policeman accommodating magistrate would rest soapy left bench strolled square across level sea asphalt broadway fifth avenue flow together broadway turned halted glittering caf gathered together nightly choicest products grape silkworm protoplasm soapy confidence lowest button vest upward shaven coat decent neat black readytied fourinhand presented lady mis sionary thanksgiving day could reach table restau rant unsuspected success would portion would show table would raise doubt waiters mind roasted mallard duck thought soapy would thing bottle chablis camembert demitasse cigar one dollar cigar would enough total would high call forth supreme manifestation revenge caf management yet meat would leave filled happy journey winter refuge soapy set foot inside restaurant door head waiters eye fell upon frayed trousers decadent shoes strong ready hands turned conveyed silence haste sidewalk averted ignoble fate menaced mallard soapy turned broadway seemed route cov eted island epicurean one way entering limbo must thought henry selected stories corner sixth avenue electric lights cunningly dis played wares behind plateglass made shop window conspicuous soapy took cobblestone dashed glass people came running round corner policeman lead soapy stood still hands pockets smiled sight brass buttons wheres man done inquired officer excitedly dont figure might something said soapy without sarcasm friendly one greets good fortune policemans mind refused accept soapy even clue men smash windows remain parley laws minions take heels policeman saw man half way block running catch car drawn club joined pursuit soapy disgust heart loafed along twice unsuccessful opposite side street restaurant great pretensions catered large appetites modest purses crockery atmosphere thick soup napery thin place soapy took accusive shoes telltale trousers without challenge table sat consumed beefsteak flap jacks doughnuts pie waiter betrayed fact minutest coin strangers get busy call cop said soapy dont keep gentleman waiting cop youse said waiter voice like butter cakes eye like cherry manhattan cocktail hey con neatly upon left ear callous pavement two waiters pitched soapy arose joint joint carpenters rule opens beat dust clothes arrest seemed rosy dream island seemed far away policeman stood drug store two doors away laughed walked street five blocks soapy travelled courage permitted woo capture time opportunity presented fatuously termed cinch young woman modest pleasing guise standing show window gazing sprightly interest display shaving mugs inkstands two yards window large policeman severe demeanour leaned waterplug soapys design assume role despicable execrated masher refined elegant appearance henry selected stories victim contiguity conscientious cop encouraged believe would soon feel pleasant official clutch upon arm would ensure winter quarters right little tight little isle soapy straightened lady missionarys readymade tie dragged shrinking cuffs open set hat killing cant sidled toward young woman made eyes taken sudden coughs hems smiled smirked went brazenly impudent contemptible litany masher half eye soapy saw policeman watching fixedly young woman moved away steps bestowed absorbed attention upon shaving mugs soapy followed boldly stepping side raised hat said ah bedelia dont want come play yard policeman still looking persecuted young woman beckon finger soapy would practically en route insular already imagined could feel cosy warmth stationhouse young woman faced stretching hand caught soapys coatsleeve sure mike said joyfully youll blow pail suds id spoke sooner cop watching young woman playing clinging ivy oak soapy walked past policeman overcome gloom seemed doomed liberty next corner shook companion ran halted district night found lightest streets hearts vows librettos women furs men greatcoats moved gaily wintry air sudden fear seized soapy dreadful enchantment rendered immune arrest thought brought little panic upon came upon another policeman lounging grandly front transplendent theatre caught immediate straw disorderly conduct sidewalk soapy began yell drunken gibberish top harsh voice danced howled raved otherwise disturbed welkin policeman twirled club turned back soapy remarked citizen tis one yale lads celebratin goose egg give hartford college noisy harm weve instructions lave henry selected stories disconsolate soapy ceased unavailing racket would never policeman lay hands fancy island seemed unattainable arcadia buttoned thin coat chilling wind cigar store saw welldressed man lighting cigar swinging light silk umbrella set door enter ing soapy stepped inside secured umbrella sauntered slowly man cigar light followed hastily umbrella said sternly oh sneered soapy adding insult petit larceny well dont call policeman took umbrella dont call cop stands one corner umbrella owner slowed steps soapy likewise presentiment luck would run policeman looked two curiously course said umbrella man well know mistakes occur umbrella hope youll excuse picked morning restaurant recognize hope youll course mine said soapy viciously exumbrella man retreated policeman hurried assist tall blonde opera cloak across street front street car approaching two blocks away soapy walked eastward street damaged improve ments hurled umbrella wrathfully excavation muttered men wear helmets carry clubs wanted fall clutches seemed regard king could wrong length soapy reached one avenues east glitter turmoil faint set face toward madison square homing instinct survives even home park bench unusually quiet corner soapy came standstill old church quaint rambling gabled one violetstained window soft light glowed doubt organist loitered keys making sure mas tery coming sabbath anthem drifted soapys ears sweet music caught held transfixed convolutions iron fence moon lustrous serene vehicles pedes trians sparrows twittered sleepily eaves little scene might country churchyard henry selected stories anthem organist played cemented soapy iron fence known well days life contained things mothers roses ambitions friends immaculate thoughts collars conjunction soapys receptive state mind influences old church wrought sudden wonderful change soul viewed swift horror pit tumbled degraded days unworthy desires dead hopes wrecked faculties base motives made existence also moment heart responded thrillingly novel mood instantaneous strong impulse moved battle desperate fate would pull mire would make man would conquer evil taken possession time comparatively young yet would resurrect old eager ambi tions pursue without faltering solemn sweet organ notes set revolution tomorrow would go roaring downtown district find work fur importer offered place driver would find tomorrow ask position would somebody world would soapy felt hand laid arm looked quickly around broad face policeman doin asked officer nothin said soapy come along said policeman three months island said magistrate police court next morning viii memoirs yellow dog dont suppose knock people perch read contribution animal mr kipling good many others demonstrated fact animals express selves remunerative english magazine goes press nowadays without animal story except oldstyle monthlies still running pictures bryan mont pele horror neednt look stuckup literature piece henry selected stories bearoo bear snakoo snake tammanoo tiger talk jungle books yellow dog thats spent life cheap new york flat sleeping corner old sateen underskirt one spilled port wine lady longshoremens banquet mustnt expected perform tricks art speech born yellow pup date locality pedigree weight unknown first thing recollect old woman basket broadway twentythird trying sell fat lady old mother hubbard boosting beat band genuine pomeranianhambletonianredirishcochinchina stokepogis fox terrier fat lady chased v around among samples gros grain flannelette shoppingbag till cor nered gave moment pet mammas wootsey squidlums say gentle reader ever pound woman breathing flavour camembert cheese peau despagne pick wallop nose remarking time emma eames tone voice oh oos um oodlum doodlum woodlum toodlum bitsywitsy skoodlums pedigreed yellow pup grew anonymous yellow cur looking like cross angora cat box lemons mistress never tumbled thought two primeval pups noah chased ark collateral branch ancestors took two policemen keep entering madison square garden siberian bloodhound prize ill tell flat house ordinary thing new york paved parian marble entrance hall cobblestones first floor flat three fl well flights climbs mistress rented unfurnished put regular things antique upholstered parlour set oil chromo geishas harlem teahouse rubber plant husband sirius biped felt sorry little man sandy hair whiskers good deal like mine henpecked well toucans flamingoes pelicans bills wiped dishes listened mistress tell cheap ragged things lady squirrelskin coat second floor hung line dry every evening getting supper made take end string walk henry selected stories men knew women pass time alone theyd never marry laura lean jibbey peanut brittle little almond cream neck muscles dishes unwashed half hours talk iceman reading package old letters couple pickles two bottles malt extract one hour peeking hole window shade flat across air shaft thats twenty minutes time come home work straightens house fixes rat wont show gets lot sewing tenminute bluff led dogs life flat day lay corner watching fat woman kill time slept sometimes pipe dreams chasing cats basements growling old ladies black mittens dog intended would pounce upon lot drivelling poodle palaver kiss nose could dog cant chew cloves began feel sorry hubby dog cats didnt looked much alike people noticed went shook streets morgans cab drives took climbing piles last decembers snow streets cheap people live one evening thus promenading trying look like prize st bernard old man trying look like wouldnt murdered first organgrinder heard play mendelssohns weddingmarch looked said way looking sour oakum trimmed lob ster dont kiss dont sit lap listen talk would make book musical comedy sound like maxims epictetus ought thankful youre dog brace benedick bid blues begone matrimonial mishap looked almost canine intelligence face doggie says good doggie almost look like could speak doggie cats cats could speak course couldnt understand humans denied speech animals common ground communica tion upon dogs men get together fiction flat across hall us lived lady blackand tan terrier husband strung took every evening henry selected stories always came home cheerful whistling one day touched noses blackandtan hall struck elucidation see wiggleandskip says know aint nature real man play drynurse dog public never saw one leashed bowwow yet didnt look like hed like lick every man looked boss comes every day perky set amateur prestidigitator egg trick dont tell likes says blackandtan uses natures remedy gets spifflicated first go hes shy man steamer would rather play pedro make em jackpots time weve eight saloons dont care whether thing end line dog catfish ive lost two inches tail trying sidestep swinging doors pointer got terrier vaudeville please copy set thinking one evening six oclock mistress ordered get busy ozone act lovey concealed called blackandtan called tweetness consider bulge far could chase rabbit still lovey something nomenclatural tincan tail ones selfrespect quiet place safe street tightened line custo dian front attractive refined saloon made deadahead scramble doors whining like dog press despatches lets family know little alice bogged gathering lilies brook darn eyes says old man grin darn eyes saffroncoloured son seltzer lemonade aint asking take drink lemme see longs since saved shoe leather keeping one foot footrest believe ill knew hot scotches took sitting table hour kept campbells coming sat side rapping waiter tail eating free lunch mamma flat never equalled homemade truck bought delicatessen store eight minutes papa comes home products scotland exhausted except rye bread old man unwound table leg played outside like fisherman plays salmon took collar threw street henry selected stories poor doggie says good doggie shant kiss darned shame good doggie go away get run street car happy refused leave leaped frisked around old mans legs happy pug rug old fleaheaded woodchuckchaser said moonbaying rabbitpointing eggstealing old beagle cant see dont want leave cant see pups wood missis cruel uncle dish towel flea liniment pink bow tie tail cut pards evermore maybe youll say didnt understand maybe didnt kind got grip hot scotches stood still minute thinking doggie says finally dont live dozen lives earth us live ever see flat im flat youre flatter thats flattery im offering westward ho wins length dachshund string frolicked along master twentythird street ferry cats route saw reason give thanks prehensile claws given jersey side master said stranger stood eating currant bun doggie bound rocky mountains pleased old man pulled ears howled said common monkeyheaded rattailed sulphurcoloured son doormat know im going call thought lovey whined dolefully im going call pete says master id five tails couldnt done enough wagging justice occasion ix lovephiltre ikey schoenstein blue light drug store downtown bowery first avenue distance two streets shortest blue light consider pharmacy thing henry selected stories bricabrac scent icecream soda ask painkiller give bonbon blue light scorns laboursaving arts modern phar macy macerates opium percolates laudanum paregoric day pills made behind tall prescription desk pills rolled pilltile divided spatula rolled finger thumb dusted calcined magnesia delivered little round pasteboard pillboxes store corner coveys raggedplumed hilarious children play become candidates coughdrops soothing syrups wait inside ikey schoenstein night clerk blue light friend customers thus east side heart pharmacy glac druggist counsellor confessor adviser able willing mis sionary mentor whose learning respected whose occult wisdom venerated whose medicine often poured untasted gutter therefore ikeys corniform bespecta cled nose narrow knowledgebowed figure well known vicinity blue light advice notice much desired ikey roomed breakfasted mrs riddles two squares away mrs riddle daughter named rosy circumlocu tion vain must guessed ikey adored rosy tinctured thoughts compound extract chemically pure officinal dispen satory contained nothing equal ikey timid hopes remained insoluble menstruum backwardness fears behind counter superior calmly conscious special knowledge worth outside weakkneed purblind motormancursed rambler illfitting clothes stained chemicals smelling socotrine aloes valerianate ammonia fly ikeys ointment thrice welcome pat trope chunk mcgowan mr mcgowan also striving catch bright smiles tossed rosy outfielder ikey picked bat time ikeys friend customer often dropped blue light drug store bruise painted iodine get cut rubberplastered pleasant evening spent along bowery one afternoon mcgowan drifted silent easy way henry selected stories sat comely smoothedfaced hard indomitable goodnatured upon stool ikey said friend fetched mortar sat opposite grinding gum benzoin powder get busy ear drugs youve got line need ikey scanned countenance mr mcgowan usual evidences conflict found none take coat ordered guess already stuck ribs knife many times told dagoes would mr mcgowan smiled said dagoes youve located diagnosis right enough coat near ribs say ikey rosy goin run away get married tonight ikeys left forefinger doubled edge mortar holding steady gave wild rap pestle felt meanwhile mr mcgowans smile faded look perplexed gloom continued keeps notion time comes weve layin pipes gateway two weeks one day says evenin says nixy weve agreed tonight rosys stuck affirmative time two whole days five hours yet till time im afraid shell stand comes scratch said wanted drugs remarked ikey mr mcgowan looked ill ease harassed condition opposed usual line demeanour made patentmedi cine almanac roll fitted unprofitable carefulness finger wouldnt double handicap make false start tonight million said ive got little flat harlem ready chrysanthemums table kettle ready boil ive engaged pulpit pounder ready house us got come rosy dont change mind mr mcgowan ceased prey doubts dont see yet said ikey shortly makes talk drugs old man riddle dont like little bit went uneasy suitor bent upon marshalling arguments week hasnt let rosy step outside door wasnt losin boarder theyd bounced long ago im makin week shell never regret flyin coop chunk mcgowan henry selected stories excuse chunk said ikey must make prescription called soon say said mcgowan looking suddenly say ikey aint drug kind kind powders thatll make girl like better give em ikeys lip beneath nose curled scorn superior enlightenment could answer mcgowan continued tim lacy told got croaker town fed em girl soda water first dose acehigh everybody else looked like thirty cents married less two weeks strong simple chunk mcgowan better reader men ikey could seen tough frame strung upon fine wires like good general invade enemys territory seeking guard every point possible failure thought went chunk hopefully one powders give rosy see supper tonight might brace keep reneging proposition skip guess dont need mule team drag away women better coaching running bases stuffll work couple hours itll trick foolishness running away happening asked ikey nine oclock said mr mcgowan suppers seven eight rosy goes bed headache nine old parvenzano lets backyard theres board riddles fence next door go window help fire escape weve got make early preachers account dead easy rosy dont balk flag drops fix one powders ikey ikey schoenstein rubbed nose slowly chunk said drugs nature pharma ceutists must much carefulness alone acquain tance would entrust powder like shall make shall see makes rosy think ikey went behind prescription desk crushed powder two soluble tablets containing quarter grain morphia added little sugar milk increase bulk folded mixture neatly white paper taken adult powder would ensure several hours heavy slumber without danger sleeper handed chunk henry selected stories mcgowan telling administer liquid possible received hearty thanks backyard lochinvar subtlety ikeys action becomes apparent upon recital subsequent move sent messenger mr riddle dis closed plans mcgowan eloping rosy mr riddle stout man brickdusty complexion sudden action much obliged said briefly ikey lazy irish loafer rooms rosys ill go supper load shotgun wait comes back yard hell go away ambulance instead bridal chaise rosy held clutches morpheus many hours deep slumber bloodthirsty parent waiting armed forewarned ikey felt rival close indeed upon discomfiture night blue light store waited duties chance news tragedy none came eight oclock morning day clerk arrived ikey started hurriedly mrs riddles learn outcome lo stepped store chunk mcgowan sprang passing streetcar grasped hand chunk mcgowan victors smile flushed joy pulled said chunk elysium grin rosy hit fireescape time second wire reverends shes flat cooked eggs mornin blue kimono lord lucky must pace day ikey feed us ive got job near bridge thats im heading powder stammered ikey oh stuff gave said chunk broadening grin well way sat supper table last night riddles looked rosy says chunk get girl get square dont try hocuspocus thoroughbred like keeps paper give pocket lamps falls another party present says failin proper affection toward comin soninlaw watches chance dumps powder old man riddles coffee see henry selected stories moment immovable odour belonged miss leslie odour brought vividly almost tangibly world finance dwindled suddenly speck next room twenty steps away george ill said maxwell half aloud ill ask wonder didnt long ago dashed inner office haste short trying cover charged upon desk stenographer looked smile soft pink crept cheek eyes kind frank maxwell leaned one elbow desk still clutched fluttering papers hands pen ear miss leslie began hurriedly moment spare want say something moment wife havent time make love ordinary way really love talk quick please fellows clubbing stuffing union pacific oh talking exclaimed young lady rose feet gazed upon roundeyed dont understand said maxwell restively want marry love miss leslie wanted tell snatched minute things slackened bit theyre calling phone tell em wait minute pitcher wont miss leslie stenographer acted queerly first seemed come amazement tears flowed wondering eyes smiled sunnily one arms slid tenderly brokers neck know said softly old business driven everything else head time fright ened first dont remember harvey married last evening eight oclock little church around corner xvi furnished room restless shifting fugacious time certain vast bulk population redbrick district lower west side henry selected stories homeless hundred homes flit furnished room furnished room transients ever transients abode transients heart mind sing home sweet home ragtime carry lares et penates bandbox vine entwined picture hat rubber plant fig tree hence houses district thousand dwellers thousand tales tell mostly dull ones doubt would strange could found ghost two wake vagrant ghosts one evening dark young man prowled among crumbling red mansions ringing bells twelfth rested lean handbaggage upon step wiped dust hatband forehead bell sounded faint far away remote hollow depths door twelfth house whose bell rung came housekeeper made think unwholesome sur feited worm eaten nut hollow shell sought fill vacancy edible lodgers asked room let come said housekeeper voice came throat throat seemed lined fur third floor back vacant since week back wish look young man followed stairs faint light particular source mitigated shadows halls trod noiselessly upon stair carpet loom would sworn seemed become vegetable degenerated rank sunless air lush lichen spreading moss grew patches staircase viscid foot like organic matter turn stairs vacant niches wall perhaps plants set within died foul tainted air may statues saints stood difficult conceive imps devils dragged forth darkness unholy depths furnished pit room said housekeeper furry throat nice room aint often vacant elegant people last summer trouble paid advance minute waters end hall sprowls mooneykept three months done vaudeville sketch miss bretta sprowls may heard oh stage names right dresser marriage certificate hung framed gas see henry selected stories plenty closet room room everybody likes never stays idle long many theatrical people rooming asked young man comes goes good proportion lodgers con nected theatres yes sir theatrical district actor people never stays long anywhere get share yes comes goes engaged room paying week advance tired said would take possession counted money room made ready said even towels water housekeeper moved away put thousandth time question carried end tongue young girl miss vashner miss eloise vashner remember one among lodgers would singing stage likely fair girl medium height slender reddish gold hair dark mole near left eyebrow dont remember name stage people names change often rooms comes goes dont call one mind always five months ceaseless interrogation inevitable negative much time spent day questioning managers agents schools choruses night among audi ences theatres allstar casts musichalls low dreaded find hoped loved best tried find sure since disap pearance home great watergirt city held like monstrous quicksand shifting particles constantly foundation upper granules today buried tomorrow ooze slime furnished room received latest guest first glow pseudohospitality hectic haggard perfunctory welcome like specious smile demirep sophistical comfort came reflected gleams decayed furniture ragged brocade upholstery couch two chairs footwide cheap pier glass two windows one two gilt picture frames brass bedstead corner guest reclined inert upon chair room con fused speech though apartment babel tried discourse divers tenantry polychromatic rug like brilliantflowered rectangular henry selected stories tropical islet lay surrounded billowy sea soiled matting upon gaypapered wall pictures pursue homeless one house house huguenot lovers first quarrel wedding breakfast psyche fountain mantels chastely severe outline ingloriously veiled behind pert drapery drawn rakishly askew like sashes ama zonian ballet upon desolate flotsam cast aside rooms marooned lucky sail borne fresh port trifling vase two pictures actresses medicine bottle stray cards deck one one characters cryptograph become explicit little signs left furnished rooms procession guests developed significance threadbare space rug front dresser told lovely woman marched throng tiny fingerprints wall spoke little prisoners trying feel way sun air splattered stain raying like shadow bursting bomb witnessed hurled glass bottle splintered contents wall across pier glass scrawled diamond staggering letters name marie seemed succession dwellers furnished room turned fury perhaps tempted beyond bearance garish coldness wreaked upon pas sions furniture chipped bruised couch distorted bursting springs seemed horrible monster slain stress grotesque convulsion potent upheaval cloven great slice marble mantel plank floor owned particular cant shriek separate individual agony seemed incredible malice injury wrought upon room called time home yet may cheated home instinct surviving blindly resentful rage false household gods kindled wrath hut sweep adorn cherish young tenant chair allowed thoughts file softshod mind drifted room furnished sounds furnished scents heard one room tittering incontinent slack laughter others monologue scold rattling dice lullaby one crying dully banjo tinkled spirit doors banged somewhere elevated trains roared intermittently cat yowled miserably upon back fence breathed breath house dank savour rather smell cold musty effluvium henry selected stories underground vaults mingled reeking exhalations linoleum mildewed rotten woodwork suddenly rested room filled strong sweet odour mignonette came upon single buffet wind sureness fragrance emphasis almost seemed living visitant man cried aloud dear called sprang faced rich odour clung wrapped reached arms senses time confused commin gled could one peremptorily called odour surely must sound sound touched caressed room cried sprang wrest token knew would recognize smallest thing belonged touched enveloping scent mignonette odour loved made whence came room carelessly set order scattered upon flimsy dresser scarf half dozen hairpins discreet indistinguishable friends womankind feminine gender infi nite mood uncommunicative tense ignored conscious triumphant lack identity ransacking drawers dresser came upon discarded tiny ragged handkerchief pressed face racy insolent heliotrope hurled floor another drawer found odd buttons theatre programme pawnbrokers card two lost marshmallows book divination dreams last womans black satin hairbow halted poised ice fire black satin hairbow also feminin itys demure impersonal common ornament tells tales traversed room like hound scent skimming walls considering corners bulging mat ting hands knees rummaging mantel tables curtains hangings drunken cabinet corner vis ible sign unable perceive beside around within clinging wooing calling poignantly finer senses even grosser ones became cognizant call answered loudly yes dear turned wildeyed gaze vacancy could yet discern form colour love outstretched arms odour mignonette oh god whence odour since odours voice call thus groped henry selected stories burrowed crevices corners found corks ciga rettes passed passive contempt found fold matting halfsmoked cigar ground beneath heel green trenchant oath sifted room end end found dreary ignoble small records many peripatetic tenant sought may lodged whose spirit seemed hover found trace thought housekeeper ran haunted room downstairs door showed crack light came knock smothered excitement best could tell madam besought occupied room came yes sir tell twas sprowls mooney said miss bretta sprowls theatres missis mooney house well known respectability marriage certificate hung framed nail kind lady miss sprowls looks mean blackhaired sir short stout comical face left week ago tuesday occupied single gentleman connected draying business left owing week missis crowder two children stayed four months back old mr doyle whose sons paid kept room six months goes back year sir remember thanked crept back room room dead essence vivified gone perfume mignonette departed place old stale odour mouldy house furniture atmosphere storage ebbing hope drained faith sat staring yellow singing gaslight soon walked bed began tear sheets strips blade knife drove tightly every crevice around windows door snug taut turned light turned gas full laid gratefully upon bed mrs mccools night go beer fetched sat mrs purdy one subterranean henry selected stories retreats housekeepers foregather worm dieth seldom rented third floor back evening said mrs purdy across fine circle foam young man took went bed two hours ago ye mrs purdy maam said mrs mccool intense admiration wonder rentin rooms kind ye tell concluded husky whisper laden mystery rooms said mrs purdy furriest tones furnished rent tell mrs mccool tis right ye maam tis renting rooms kape alive ye rale sense business maam many people rayjict rentin room tould suicide dyin bed say living making remarked mrs purdy yis maam tis true tis one wake ago day helped ye lay third floor back pretty slip colleen killin wid gas swate little face mrs purdy maam shed abeen called handsome say said mrs purdy assenting critical mole agrowin left eyebrow fill glass mrs mccool xvii brief debut tildy know bogles chop house family restau rant loss one fortunate ones dine expensively interested know half consumes provisions belong half waiters checks things moment know bogles get moneys worth quantity least bogles situated highway bourgeoisie boulevard brownjonesandrobinson eighth avenue two rows tables room six row table castorstand containing cruets condiments seasons pepper cruet may shake cloud something tasteless melancholy like volcanic dust salt cruet may henry selected stories sad one says laying points manicured fin gers together utterly incorrigible girl special terrestrial officer reverend jones case assigned girl murdered fianc committed suicide defence report court relates facts detail substantiated reliable witnesses wages sin death praise lord court officer opened door stepped poor girl said special terrestrial officer reverend jones tear eye one saddest cases ever met course discharged said court officer come jonesy first thing know youll switched potpie squad would like missionary force south sea islands hey quit making false arrests youll transferred see guilty party youve got look case redhaired unshaven untidy man sitting window reading stocking feet children play streets get move wasnt silly dream xxxiii last leaf little district west washington square streets run crazy broken small strips called places places make strange angles curves one street crosses time two artist discovered valuable possibility street suppose collector bill paints paper canvas traversing route suddenly meet coming back without cent paid account quaint old greenwich village art people soon came prowling hunting north windows eighteenthcentury gables dutch attics low rents imported pewter mugs chafing dish two sixth avenue became colony top squatty threestory brick sue johnsy studio johnsy familiar joanna one maine california met table dhte eighth street delmonicos found tastes henry selected stories art chicory salad bishop sleeves congenial joint studio resulted may november cold unseen stranger doctors called pneumonia stalked colony touching one icy finger east side ravager strode boldly smiting victims scores feet trod slowly maze narrow mossgrown places mr pneumonia would call chivalric old gen tleman mite little woman blood thinned californ ian zephyrs hardly fair game redfisted shortbreathed old duffer johnsy smote lay scarcely moving painted iron bedstead looking small dutch windowpanes blank side next brick house one morning busy doctor invited sue hallway shaggy grey eyebrow one chance let us say ten said shook mercury clinical thermometer chance want live way people liningup side undertaker makes entire pharmacopia look silly little lady made mind shes going get well anything mind wanted paint bay naples day said sue paint bosh anything mind worth thinking twice man instance man said sue jewsharp twang voice man worth doctor nothing kind well weakness said doctor science far may filter efforts accomplish whenever patient begins count carriages funeral procession subtract per cent curative power medicines get ask one question new winter styles cloak sleeves promise oneinfive chance instead one ten doctor gone sue went workroom cried japanese napkin pulp swaggered johnsys room drawingboard whistling ragtime johnsy lay scarcely making ripple bedclothes face toward window sue stopped whistling thinking asleep arranged board began penandink drawing henry selected stories illustrate magazine story young artists must pave way art drawing pictures magazine stories young authors write pave way literature sue sketching pair elegant horseshow riding trousers monocle figure hero idaho cowboy heard low sound several times repeated went quickly bedside johnsys eyes open wide looking window counting counting backward twelve said little later eleven ten nine eight seven almost together sue looked solicitously window count bare dreary yard seen blank side brick house twenty feet away old old ivy vine gnarled decayed roots climbed halfway brick wall cold breath autumn stricken leaves vine skeleton branches clung almost bare crumbling bricks dear asked sue six said johnsy almost whisper theyre falling faster three days ago almost hundred made head ache count easy goes another one five left five dear tell sudie leaves ivy vine last one falls must go ive known three days didnt doctor tell oh never heard nonsense complained sue magnificent scorn old ivy leaves get ting well used love vine naughty girl dont goosey doctor told morning chances getting well real soon lets see exactly said said chances ten one thats almost good chance new york ride streetcars walk past new building try take broth let sudie go back drawing sell editor man buy port wine sick child pork chops greedy self neednt get wine said johnsy keeping eyes fixed window goes another dont want broth leaves four want see last one fall gets dark ill go henry selected stories johnsy dear said sue bending promise keep eyes closed look window done working must hand drawings tomorrow need light would draw shade couldnt draw room asked johnsy coldly id rather said sue besides dont want keep looking silly ivy leaves tell soon finished said johnsy closing eyes lying white still fallen statue want see last one fall im tired waiting im tired thinking want turn loose hold everything go sailing like one poor tired leaves try sleep said sue must call behrman model old hermit miner ill gone minute dont try move till come back old behrman painter lived ground floor beneath past sixty michael angelos moses beard curling head satyr along body imp behrman failure art forty years wielded brush without getting near enough touch hem mis tresss robe always paint masterpiece never yet begun several years painted nothing except daub line commerce advertising earned little serving model young artists colony could pay price professional drank gin excess still talked coming masterpiece rest fierce little old man scoffed terribly softness anyone regarded especial mastiffinwaiting protect two young artists studio sue found behrman smelling strongly juniper berries dimlylighted den one corner blank canvas easel waiting twentyfive years receive first line masterpiece told johnsys fancy feared would indeed light fragile leaf float away slight hold upon world grew weaker old behrman red eyes plainly streaming shouted contempt derision idiotic imaginings vass cried dere people de world mit der foolishness die leafs dey drop confounded vine haf heard thing vill bose model fool hermitdunderhead vy allow dot silly pusiness come der prain ach dot poor little miss yohnsy henry selected stories ill arid weak said sue fever left mind morbid full strange fancies well mr behrman care pose neednt think horrid old old flibbertigibbet like woman yelled behrman said vill bose go come mit half hour haf peen trying say dot ready bose gott dis blace one goot miss yohnsy shall lie sick day vill baint masterpiece shall go avay gott yes johnsy sleeping went upstairs sue pulled shade windowsill motioned behrman room peered window fearfully ivy vine looked moment without speaking persistent cold rain falling mingled snow behrman old blue shirt took seat hermitminer upturned kettle rock sue awoke hours sleep next morning found johnsy dull wideopen eyes staring drawn green shade pull want see ordered whisper wearily sue obeyed lo beating rain fierce gusts wind endured livelong night yet stood brick wall one ivy leaf last vine still dark green near stem serrated edges tinted yellow dissolution decay hung bravely branch twenty feet ground last one said johnsy thought would surely fall night heard wind fall today shall die time dear dear said sue leaning worn face pillow think wont think would johnsy answer lonesomest thing world soul making ready go mysterious far journey fancy seemed possess strongly one one ties bound friendship earth loosed day wore away even twilight could see lone ivy leaf clinging stem wall coming night north wind loosed rain still beat windows pattered low dutch eaves henry selected stories light enough johnsy merciless commanded shade raised ivy leaf still johnsy lay long time looking called sue stirring chicken broth gas stove ive bad girl sudie said johnsy something made last leaf stay show wicked sin want die may bring little broth milk little port bring handmirror first pack pillows sit watch cook hour later said sudie day hope paint bay naples doctor came afternoon sue excuse go hallway left even chances said doctor talking sues thin shaking hand good nursing youll win must see another case downstairs behrman name kind artist believe pneumonia old weak man attack acute hope goes hospital today made comfortable next day doctor said sue shes danger youve nutrition care thats afternoon sue came bed johnsy lay con tentedly knitting blue useless woollen shoulder scarf put one arm around pillows something tell white mouse said mr behrman died pneumonia today hospital ill two days janitor found morning first day room downstairs helpless pain shoes clothing wet icy cold couldnt imagine dreadful night found lantern still lighted ladder dragged place scattered brushes palette green yellow colours mixed look window dear last ivy leaf wall didnt wonder never fluttered moved wind blew ah darling behrmans masterpiece painted night last leaf fell henry selected stories presently thomas moved tentatively seat thoughtfully felt abrasion two knees elbows say annie said confidentially maybe one last dreams booze ive kind recollection riding automobile swell guy took house full eagles arc lights fed biscuits hot air kicked front steps ts sore shut fool said annie could find funny guys house said thomas conclusion id go day punch nose xlvii poet peasant day poet friend mine lived close communication nature life wrote poem took editor living pastoral full genuine breath fields song birds pleasant chatter trickling streams poet called see hopes beefsteak dinner heart handed back comment artificial several us met spaghetti dutchess county chianti swallowed indignation slippery forkfuls dug pit editor us conant wellarrived writer fiction man trod asphalt life never looked upon bucolic scenes except sensations disgust windows express trains conant wrote poem called doe brook fine specimen kind work would expect poet strayed amaryllis far florists windows whose sole ornithological discussion car ried waiter conant signed poem sent editor little story editor reading first line poem next morning stumbled west shore ferryboat loped slowly fortysecond street invader young man light blue eyes hanging henry selected stories lip hair exact colour little orphans afterward dis covered earls daughter one mr blaneys plays trousers corduroy coat shortsleeved buttons middle back one bootleg outside corduroys looked expectantly though vain straw hat earholes shape inaugurating suspicion ravaged former equine possessor hand valise description impossible task boston man would carried lunch law books office one ear hair wisp hay rustics letter credit badge innocence last clinging touch garden eden lingering shame goldbrick men knowingly smilingly city crowds passed saw raw stranger stand gutter stretch neck tall buildings ceased smile even look done often glanced antique valise see coney attraction brand chewinggum might thus dinning memory part ignored even newsboys looked bored scampered like circus clown way cabs streetcars eighth avenue stood bunco harry dyed mous tache shiny goodnatured eyes harry good artist pained sight actor overdoing part edged countryman stopped open mouth jewellery store window shook head thick pal said critically thick couple inches dont know lay youve got properties thick hay dont even allow proctors circuit dont understand mister said green one im lookin circus ive run ulster county look town bein hayins gosh whopper thought poughkeepsie punkins town five times big oh well said bunco harry raising eyebrows didnt mean butt dont tell thought ought tone little tried put wise wish success graft whatever come drink anyhow wouldnt mind glass lager beer acknowledged went caf frequented men smooth faces shifty eyes sat drinks henry selected stories im glad come across mister said haylocks howd like play game two sevenup ive got keerds fished noahs valise rare inimitable deck greasy bacon suppers grimy soil cornfields bunco harry laughed loud briefly sport said firmly dont go makeup cent still say youve overdone reubs havent dressed like since doubt could work brooklyn keywinding watch layout oh neednt think aint got money boasted hay locks drew forth tightly rolled mass bills large teacup laid table got share grandmothers farm announced theres roll thought id come city look around likely business go bunco harry took roll money looked almost respect smiling eyes ive seen worse said critically youll never clothes want get light tan shoes black suit straw hat coloured band talk good deal pitts burg freight differentials drink sherry breakfast order work phony stuff like whats line asked two three shiftyeyed men bunco harry haylocks gathered impugned money departed queer guess said harry else hes one jeromes men guy new graft hes much hayseed maybe wonder oh couldnt real money haylocks wandered thirst probably assailed dived dark groggery sidestreet bought beer several sinister fellows hung upon one end bar first sight eyes brightened insistent exagger ated rusticity became apparent expressions changed wary suspicion haylocks swung valise across bar keep awhile mister said chewing end virulent claybank cigar ill back knock around spell keep eye theres inside though maybe wouldnt think look somewhere outside phonograph struck band piece haylocks coattail buttons flopping middle back henry selected stories divvy mike said men hanging upon bar winking openly one another honest said bartender kicking valise one side dont think id fall anybody see aint jay one mcadoos comeon squad guess hes shine made aint parts country dress like since run rural free delivery providence rhode island hes got ninefifty valise ninetyeightcent waterbury thats stopped ten minutes ten haylocks exhausted resources mr edison amuse returned valise broadway gal livanted culling sights eager blue eyes still evermore broadway rejected curt glances sardonic smiles oldest gags city must endure flagrantly impossible ultrarustic exaggerated beyond freakish products barnyard hayfield vaudeville stage excited weariness suspi cion wisp hay hair genuine fresh redolent meadows clamorously rural even shell game man would put peas folded table sight haylocks seated upon flight stone steps exhumed roll yellowbacks valise outer one twenty shucked beckoned newsboy son said run somewhere get changed im mighty nigh chicken feed guess youll get nickel youll hurry hurt look appeared dirt newsys face aw watchertink gwan get yer funny bill changed yerself dey aint farm clothes yer got gwan wit yer stage money corner lounged keeneyed steerer gambling house saw haylocks expression suddenly grew cold virtuous mister said rural one ive heard places town fellow could good game old sledge peg card keno got valise come old ulster see sights know fellow could get action im goin sport maybe ill buy business kind steerer looked pained investigated white speck left forefinger nail cheese old man murmured reproachfully central henry selected stories office must bughouse send looking like gillie couldnt get within two blocks sidewalk crap game tony pastor props recent mr scotty death valley got beat crosstown block way eliza bethan scenery mechanical accessories let skiddoo nay know gilded halls one may bet patrol wagon ace rebuffed great city swift detect artifi cialities haylocks sat upon kerb presented thoughts hold conference clothes said durned aint think im hayseed wont nothin nobody never made fun hat ulster county guess want folks notice new york must dress like haylocks went shopping bazaars men spake noses rubbed hands ran tape line ecstatically bulge inside pocket reposed red nubbin corn even number rows messengers bearing parcels boxes streamed hotel broadway within lights long acre nine oclock evening one descended sidewalk ulster county would forsworn bright tan shoes hat latest block light grey trousers deeply creased gay blue silk handkerchief flapped breast pocket elegant english walkingcoat collar might graced laundry window blond hair trimmed close wisp hay gone instant stood resplendent leisurely air boulevardier concocting mind route evening pleasures turned gay bright street easy graceful tread millionaire instant paused wisest keenest eyes city enveloped field vision stout man grey eyes picked two friends lift eyebrows row loungers front hotel juiciest jay ive seen six months said man grey eyes come along halfpast eleven man galloped west fortyseventh street policestation story wrongs nine hundred fifty dollars gasped share grandmothers farm desk sergeant wrung name jabez bulltongue henry selected stories locust valley farm ulster county began take descriptions strongarm gentlemen conant went see editor fate poem received head office boy inner office decorated statuettes rodin j g brown read first line doe brook said editor knew work one whose life heart heart nature finished art line blind fact use somewhat homely comparison wild free child woods fields garb fashion walk broadway beneath apparel man would show thanks said conant suppose cheque round thursday usual morals story somehow gotten mixed take choice stay farm dont write poetry xlviii things play acquainted newspaper reporter couple free passes got see performance nights ago one popular vaudeville houses one numbers violin solo strikinglooking man much past forty grey thick hair afflicted taste music let system noises drift past ears regarded man story chap month two ago said reporter gave assignment run column extremely light joking order old man seems like funny touch give local happenings oh yes im working farce comedy well went house got details certainly fell job went back turned comic writeup east side funeral instead oh couldnt seem get hold funny hooks somehow maybe could make oneact tragedy curtainraiser ill give details performance friend reporter recited facts wrzburger henry selected stories racking petitionary music violin hag music bewitches noblest daws may peck upon ones sleeve injury whoever wears heart upon tympanum gets far neck music musician called side honour old love held back forgive pleaded twenty years long time remain away one say love declared purgatorial touch could tell begged conceal nothing night left followed mad jealousy dark street struck rise examined head struck stone intend kill mad love jealousy hid near saw ambu lance take away although married helen cried woman wideopen eyes snatching hand away dont remember helen one always loved best john delaney forgive gone leaping stumbling hurrying flying stairs toward music forgotten known two existences climbed sobbed cried sang frank frank frank three mortals thus juggling years though bil liard balls friend reporter couldnt see anything funny xlx ramble aphasia wife parted morning precisely usual manner left second cup tea follow front door plucked lapel invisible strand lint universal act woman proclaim ownership bade take care cold cold next came kiss parting level kiss domesticity flavoured young hyson fear extemporaneous variety spicing infinite custom deft touch long malpractice dabbed awry wellset scarfpin closed door heard morning slippers pattering back cooling tea henry selected stories set thought premonition occur attack came suddenly many weeks toiling almost night day famous railroad law case triumphantly days previously fact digging away law almost without cessation many years twice good doctor volney friend physician warned dont slacken bellford said youll go suddenly pieces either nerves brain give way tell week pass read papers case aphasia man lost wandering nameless past identity blotted little brainclot made overwork worry always thought said clot instances really found brains newspaper reporters dr volney shook head disease exists said need change rest courtroom office home route travel recreation read law books better take warning time thursday nights said defensively wife play cribbage sundays reads weekly letter mother law books recreation remains yet established morning walked thinking doctor volneys words feeling well usually possibly better spirits usual awoke stiff cramped muscles slept long incommodious seat day coach leaned head seat tried think long time said must name sort searched pockets card letter paper monogram could find found coat pocket nearly bills large denomination must someone course repeated began consider car well crowded men among told must common interest intermingled freely seemed best goodhumour spirits one stout spectacled gentleman enveloped decided odour cinnamon aloes took vacant half seat friendly nod unfolded newspaper intervals periods reading conversed travellers current henry selected stories affairs found able sustain conversation sub jects credit least memory companion said one us course fine lot men west sends time im glad held convention new york ive never east names r p bolder bolder son hick\n"
     ]
    }
   ],
   "source": [
    "print(text[10000:100000])"
   ]
  },
  {
   "cell_type": "code",
   "execution_count": 11,
   "metadata": {
    "executionInfo": {
     "elapsed": 5,
     "status": "ok",
     "timestamp": 1692376394641,
     "user": {
      "displayName": "Purushothaman Natarajan",
      "userId": "13347130037007284118"
     },
     "user_tz": -330
    },
    "id": "V3qNFF1uebK7"
   },
   "outputs": [],
   "source": [
    "# we may use this for other applications to clean the data, like resume short listings, named entity recognition etc,\n",
    "###text = to_lower(text)\n",
    "###text = clean_text(text)"
   ]
  },
  {
   "cell_type": "code",
   "execution_count": 12,
   "metadata": {
    "executionInfo": {
     "elapsed": 4,
     "status": "ok",
     "timestamp": 1692376394641,
     "user": {
      "displayName": "Purushothaman Natarajan",
      "userId": "13347130037007284118"
     },
     "user_tz": -330
    },
    "id": "YGEqQHgvebK8"
   },
   "outputs": [],
   "source": [
    "#print(text[:1000]) The sentences will be converted to words."
   ]
  },
  {
   "cell_type": "markdown",
   "metadata": {
    "id": "aOLDGPPMtlbx"
   },
   "source": [
    "Training the model with Q&A PDF or the available documents\n"
   ]
  },
  {
   "cell_type": "markdown",
   "metadata": {
    "id": "9rAU0jOjebK9"
   },
   "source": [
    "I don't have any question and answers pdf with me so instead of calling the dataset from the transformer using a json file (squad Q & A file) to train the model, the squad data has more than 80k data so its quiet impossible to train the model with a generic system so training the module with top 15 question and answer. (we may use other files to train the module)"
   ]
  },
  {
   "cell_type": "code",
   "execution_count": 13,
   "metadata": {
    "executionInfo": {
     "elapsed": 4,
     "status": "ok",
     "timestamp": 1692376394641,
     "user": {
      "displayName": "Purushothaman Natarajan",
      "userId": "13347130037007284118"
     },
     "user_tz": -330
    },
    "id": "FdRnhGnTljAJ"
   },
   "outputs": [],
   "source": [
    "import json"
   ]
  },
  {
   "cell_type": "code",
   "execution_count": 14,
   "metadata": {
    "colab": {
     "base_uri": "https://localhost:8080/"
    },
    "executionInfo": {
     "elapsed": 3140,
     "status": "ok",
     "timestamp": 1692376397777,
     "user": {
      "displayName": "Purushothaman Natarajan",
      "userId": "13347130037007284118"
     },
     "user_tz": -330
    },
    "id": "poJfd5rAxg5W",
    "outputId": "d39ccaff-8aa2-4240-be4b-320ae697ff00"
   },
   "outputs": [
    {
     "name": "stdout",
     "output_type": "stream",
     "text": [
      "Training data preparation complete.\n"
     ]
    }
   ],
   "source": [
    "# Load the SQuAD dataset JSON file\n",
    "#Training data\n",
    "with open(r\"/content/drive/MyDrive/Q&A from PDF - BERT module/SQuAD  train data set/train-v1.1.json\", 'r') as f:\n",
    "    squad_data = json.load(f)\n",
    "\n",
    "# Process the SQuAD data to extract question-answer pairs\n",
    "training_data = []\n",
    "for article in squad_data['data']:\n",
    "    for paragraph in article['paragraphs']:\n",
    "        context = paragraph['context']\n",
    "        for qa in paragraph['qas']:\n",
    "            question = qa['question']\n",
    "            if qa['answers']:\n",
    "                answer = qa['answers'][0]['text']\n",
    "                training_data.append({'question': question, 'answer': answer, 'context': context})\n",
    "\n",
    "# Save the processed training data in a new JSON file\n",
    "with open('training_data.json', 'w') as f:\n",
    "    json.dump(training_data, f, indent=4)\n",
    "\n",
    "print(\"Training data preparation complete.\")\n"
   ]
  },
  {
   "cell_type": "code",
   "execution_count": 15,
   "metadata": {
    "colab": {
     "base_uri": "https://localhost:8080/"
    },
    "executionInfo": {
     "elapsed": 11,
     "status": "ok",
     "timestamp": 1692376397778,
     "user": {
      "displayName": "Purushothaman Natarajan",
      "userId": "13347130037007284118"
     },
     "user_tz": -330
    },
    "id": "CVHWtB1qebK9",
    "outputId": "5461add6-71aa-4d76-857c-27cd3f8e204f"
   },
   "outputs": [
    {
     "data": {
      "text/plain": [
       "[{'question': 'To whom did the Virgin Mary allegedly appear in 1858 in Lourdes France?',\n",
       "  'answer': 'Saint Bernadette Soubirous',\n",
       "  'context': 'Architecturally, the school has a Catholic character. Atop the Main Building\\'s gold dome is a golden statue of the Virgin Mary. Immediately in front of the Main Building and facing it, is a copper statue of Christ with arms upraised with the legend \"Venite Ad Me Omnes\". Next to the Main Building is the Basilica of the Sacred Heart. Immediately behind the basilica is the Grotto, a Marian place of prayer and reflection. It is a replica of the grotto at Lourdes, France where the Virgin Mary reputedly appeared to Saint Bernadette Soubirous in 1858. At the end of the main drive (and in a direct line that connects through 3 statues and the Gold Dome), is a simple, modern stone statue of Mary.'},\n",
       " {'question': 'What is in front of the Notre Dame Main Building?',\n",
       "  'answer': 'a copper statue of Christ',\n",
       "  'context': 'Architecturally, the school has a Catholic character. Atop the Main Building\\'s gold dome is a golden statue of the Virgin Mary. Immediately in front of the Main Building and facing it, is a copper statue of Christ with arms upraised with the legend \"Venite Ad Me Omnes\". Next to the Main Building is the Basilica of the Sacred Heart. Immediately behind the basilica is the Grotto, a Marian place of prayer and reflection. It is a replica of the grotto at Lourdes, France where the Virgin Mary reputedly appeared to Saint Bernadette Soubirous in 1858. At the end of the main drive (and in a direct line that connects through 3 statues and the Gold Dome), is a simple, modern stone statue of Mary.'},\n",
       " {'question': 'The Basilica of the Sacred heart at Notre Dame is beside to which structure?',\n",
       "  'answer': 'the Main Building',\n",
       "  'context': 'Architecturally, the school has a Catholic character. Atop the Main Building\\'s gold dome is a golden statue of the Virgin Mary. Immediately in front of the Main Building and facing it, is a copper statue of Christ with arms upraised with the legend \"Venite Ad Me Omnes\". Next to the Main Building is the Basilica of the Sacred Heart. Immediately behind the basilica is the Grotto, a Marian place of prayer and reflection. It is a replica of the grotto at Lourdes, France where the Virgin Mary reputedly appeared to Saint Bernadette Soubirous in 1858. At the end of the main drive (and in a direct line that connects through 3 statues and the Gold Dome), is a simple, modern stone statue of Mary.'},\n",
       " {'question': 'What is the Grotto at Notre Dame?',\n",
       "  'answer': 'a Marian place of prayer and reflection',\n",
       "  'context': 'Architecturally, the school has a Catholic character. Atop the Main Building\\'s gold dome is a golden statue of the Virgin Mary. Immediately in front of the Main Building and facing it, is a copper statue of Christ with arms upraised with the legend \"Venite Ad Me Omnes\". Next to the Main Building is the Basilica of the Sacred Heart. Immediately behind the basilica is the Grotto, a Marian place of prayer and reflection. It is a replica of the grotto at Lourdes, France where the Virgin Mary reputedly appeared to Saint Bernadette Soubirous in 1858. At the end of the main drive (and in a direct line that connects through 3 statues and the Gold Dome), is a simple, modern stone statue of Mary.'},\n",
       " {'question': 'What sits on top of the Main Building at Notre Dame?',\n",
       "  'answer': 'a golden statue of the Virgin Mary',\n",
       "  'context': 'Architecturally, the school has a Catholic character. Atop the Main Building\\'s gold dome is a golden statue of the Virgin Mary. Immediately in front of the Main Building and facing it, is a copper statue of Christ with arms upraised with the legend \"Venite Ad Me Omnes\". Next to the Main Building is the Basilica of the Sacred Heart. Immediately behind the basilica is the Grotto, a Marian place of prayer and reflection. It is a replica of the grotto at Lourdes, France where the Virgin Mary reputedly appeared to Saint Bernadette Soubirous in 1858. At the end of the main drive (and in a direct line that connects through 3 statues and the Gold Dome), is a simple, modern stone statue of Mary.'},\n",
       " {'question': 'When did the Scholastic Magazine of Notre dame begin publishing?',\n",
       "  'answer': 'September 1876',\n",
       "  'context': \"As at most other universities, Notre Dame's students run a number of news media outlets. The nine student-run outlets include three newspapers, both a radio and television station, and several magazines and journals. Begun as a one-page journal in September 1876, the Scholastic magazine is issued twice monthly and claims to be the oldest continuous collegiate publication in the United States. The other magazine, The Juggler, is released twice a year and focuses on student literature and artwork. The Dome yearbook is published annually. The newspapers have varying publication interests, with The Observer published daily and mainly reporting university and other news, and staffed by students from both Notre Dame and Saint Mary's College. Unlike Scholastic and The Dome, The Observer is an independent publication and does not have a faculty advisor or any editorial oversight from the University. In 1987, when some students believed that The Observer began to show a conservative bias, a liberal newspaper, Common Sense was published. Likewise, in 2003, when other students believed that the paper showed a liberal bias, the conservative paper Irish Rover went into production. Neither paper is published as often as The Observer; however, all three are distributed to all students. Finally, in Spring 2008 an undergraduate journal for political science research, Beyond Politics, made its debut.\"},\n",
       " {'question': \"How often is Notre Dame's the Juggler published?\",\n",
       "  'answer': 'twice',\n",
       "  'context': \"As at most other universities, Notre Dame's students run a number of news media outlets. The nine student-run outlets include three newspapers, both a radio and television station, and several magazines and journals. Begun as a one-page journal in September 1876, the Scholastic magazine is issued twice monthly and claims to be the oldest continuous collegiate publication in the United States. The other magazine, The Juggler, is released twice a year and focuses on student literature and artwork. The Dome yearbook is published annually. The newspapers have varying publication interests, with The Observer published daily and mainly reporting university and other news, and staffed by students from both Notre Dame and Saint Mary's College. Unlike Scholastic and The Dome, The Observer is an independent publication and does not have a faculty advisor or any editorial oversight from the University. In 1987, when some students believed that The Observer began to show a conservative bias, a liberal newspaper, Common Sense was published. Likewise, in 2003, when other students believed that the paper showed a liberal bias, the conservative paper Irish Rover went into production. Neither paper is published as often as The Observer; however, all three are distributed to all students. Finally, in Spring 2008 an undergraduate journal for political science research, Beyond Politics, made its debut.\"},\n",
       " {'question': 'What is the daily student paper at Notre Dame called?',\n",
       "  'answer': 'The Observer',\n",
       "  'context': \"As at most other universities, Notre Dame's students run a number of news media outlets. The nine student-run outlets include three newspapers, both a radio and television station, and several magazines and journals. Begun as a one-page journal in September 1876, the Scholastic magazine is issued twice monthly and claims to be the oldest continuous collegiate publication in the United States. The other magazine, The Juggler, is released twice a year and focuses on student literature and artwork. The Dome yearbook is published annually. The newspapers have varying publication interests, with The Observer published daily and mainly reporting university and other news, and staffed by students from both Notre Dame and Saint Mary's College. Unlike Scholastic and The Dome, The Observer is an independent publication and does not have a faculty advisor or any editorial oversight from the University. In 1987, when some students believed that The Observer began to show a conservative bias, a liberal newspaper, Common Sense was published. Likewise, in 2003, when other students believed that the paper showed a liberal bias, the conservative paper Irish Rover went into production. Neither paper is published as often as The Observer; however, all three are distributed to all students. Finally, in Spring 2008 an undergraduate journal for political science research, Beyond Politics, made its debut.\"},\n",
       " {'question': 'How many student news papers are found at Notre Dame?',\n",
       "  'answer': 'three',\n",
       "  'context': \"As at most other universities, Notre Dame's students run a number of news media outlets. The nine student-run outlets include three newspapers, both a radio and television station, and several magazines and journals. Begun as a one-page journal in September 1876, the Scholastic magazine is issued twice monthly and claims to be the oldest continuous collegiate publication in the United States. The other magazine, The Juggler, is released twice a year and focuses on student literature and artwork. The Dome yearbook is published annually. The newspapers have varying publication interests, with The Observer published daily and mainly reporting university and other news, and staffed by students from both Notre Dame and Saint Mary's College. Unlike Scholastic and The Dome, The Observer is an independent publication and does not have a faculty advisor or any editorial oversight from the University. In 1987, when some students believed that The Observer began to show a conservative bias, a liberal newspaper, Common Sense was published. Likewise, in 2003, when other students believed that the paper showed a liberal bias, the conservative paper Irish Rover went into production. Neither paper is published as often as The Observer; however, all three are distributed to all students. Finally, in Spring 2008 an undergraduate journal for political science research, Beyond Politics, made its debut.\"},\n",
       " {'question': 'In what year did the student paper Common Sense begin publication at Notre Dame?',\n",
       "  'answer': '1987',\n",
       "  'context': \"As at most other universities, Notre Dame's students run a number of news media outlets. The nine student-run outlets include three newspapers, both a radio and television station, and several magazines and journals. Begun as a one-page journal in September 1876, the Scholastic magazine is issued twice monthly and claims to be the oldest continuous collegiate publication in the United States. The other magazine, The Juggler, is released twice a year and focuses on student literature and artwork. The Dome yearbook is published annually. The newspapers have varying publication interests, with The Observer published daily and mainly reporting university and other news, and staffed by students from both Notre Dame and Saint Mary's College. Unlike Scholastic and The Dome, The Observer is an independent publication and does not have a faculty advisor or any editorial oversight from the University. In 1987, when some students believed that The Observer began to show a conservative bias, a liberal newspaper, Common Sense was published. Likewise, in 2003, when other students believed that the paper showed a liberal bias, the conservative paper Irish Rover went into production. Neither paper is published as often as The Observer; however, all three are distributed to all students. Finally, in Spring 2008 an undergraduate journal for political science research, Beyond Politics, made its debut.\"},\n",
       " {'question': 'Where is the headquarters of the Congregation of the Holy Cross?',\n",
       "  'answer': 'Rome',\n",
       "  'context': 'The university is the major seat of the Congregation of Holy Cross (albeit not its official headquarters, which are in Rome). Its main seminary, Moreau Seminary, is located on the campus across St. Joseph lake from the Main Building. Old College, the oldest building on campus and located near the shore of St. Mary lake, houses undergraduate seminarians. Retired priests and brothers reside in Fatima House (a former retreat center), Holy Cross House, as well as Columba Hall near the Grotto. The university through the Moreau Seminary has ties to theologian Frederick Buechner. While not Catholic, Buechner has praised writers from Notre Dame and Moreau Seminary created a Buechner Prize for Preaching.'},\n",
       " {'question': 'What is the primary seminary of the Congregation of the Holy Cross?',\n",
       "  'answer': 'Moreau Seminary',\n",
       "  'context': 'The university is the major seat of the Congregation of Holy Cross (albeit not its official headquarters, which are in Rome). Its main seminary, Moreau Seminary, is located on the campus across St. Joseph lake from the Main Building. Old College, the oldest building on campus and located near the shore of St. Mary lake, houses undergraduate seminarians. Retired priests and brothers reside in Fatima House (a former retreat center), Holy Cross House, as well as Columba Hall near the Grotto. The university through the Moreau Seminary has ties to theologian Frederick Buechner. While not Catholic, Buechner has praised writers from Notre Dame and Moreau Seminary created a Buechner Prize for Preaching.'},\n",
       " {'question': 'What is the oldest structure at Notre Dame?',\n",
       "  'answer': 'Old College',\n",
       "  'context': 'The university is the major seat of the Congregation of Holy Cross (albeit not its official headquarters, which are in Rome). Its main seminary, Moreau Seminary, is located on the campus across St. Joseph lake from the Main Building. Old College, the oldest building on campus and located near the shore of St. Mary lake, houses undergraduate seminarians. Retired priests and brothers reside in Fatima House (a former retreat center), Holy Cross House, as well as Columba Hall near the Grotto. The university through the Moreau Seminary has ties to theologian Frederick Buechner. While not Catholic, Buechner has praised writers from Notre Dame and Moreau Seminary created a Buechner Prize for Preaching.'},\n",
       " {'question': 'What individuals live at Fatima House at Notre Dame?',\n",
       "  'answer': 'Retired priests and brothers',\n",
       "  'context': 'The university is the major seat of the Congregation of Holy Cross (albeit not its official headquarters, which are in Rome). Its main seminary, Moreau Seminary, is located on the campus across St. Joseph lake from the Main Building. Old College, the oldest building on campus and located near the shore of St. Mary lake, houses undergraduate seminarians. Retired priests and brothers reside in Fatima House (a former retreat center), Holy Cross House, as well as Columba Hall near the Grotto. The university through the Moreau Seminary has ties to theologian Frederick Buechner. While not Catholic, Buechner has praised writers from Notre Dame and Moreau Seminary created a Buechner Prize for Preaching.'},\n",
       " {'question': 'Which prize did Frederick Buechner create?',\n",
       "  'answer': 'Buechner Prize for Preaching',\n",
       "  'context': 'The university is the major seat of the Congregation of Holy Cross (albeit not its official headquarters, which are in Rome). Its main seminary, Moreau Seminary, is located on the campus across St. Joseph lake from the Main Building. Old College, the oldest building on campus and located near the shore of St. Mary lake, houses undergraduate seminarians. Retired priests and brothers reside in Fatima House (a former retreat center), Holy Cross House, as well as Columba Hall near the Grotto. The university through the Moreau Seminary has ties to theologian Frederick Buechner. While not Catholic, Buechner has praised writers from Notre Dame and Moreau Seminary created a Buechner Prize for Preaching.'}]"
      ]
     },
     "execution_count": 15,
     "metadata": {},
     "output_type": "execute_result"
    }
   ],
   "source": [
    "training_data[:15]"
   ]
  },
  {
   "cell_type": "code",
   "execution_count": 16,
   "metadata": {
    "executionInfo": {
     "elapsed": 3255,
     "status": "ok",
     "timestamp": 1692376401024,
     "user": {
      "displayName": "Purushothaman Natarajan",
      "userId": "13347130037007284118"
     },
     "user_tz": -330
    },
    "id": "p1UNo8orebK9"
   },
   "outputs": [],
   "source": [
    "from transformers import BertTokenizer, BertForQuestionAnswering, AdamW\n",
    "import torch"
   ]
  },
  {
   "cell_type": "code",
   "execution_count": 17,
   "metadata": {
    "colab": {
     "base_uri": "https://localhost:8080/"
    },
    "executionInfo": {
     "elapsed": 594543,
     "status": "ok",
     "timestamp": 1692376995564,
     "user": {
      "displayName": "Purushothaman Natarajan",
      "userId": "13347130037007284118"
     },
     "user_tz": -330
    },
    "id": "gvYz2N0ByfJb",
    "outputId": "1a01a410-982e-4f68-90c0-df86189d5642"
   },
   "outputs": [
    {
     "name": "stderr",
     "output_type": "stream",
     "text": [
      "Some weights of BertForQuestionAnswering were not initialized from the model checkpoint at bert-base-uncased and are newly initialized: ['qa_outputs.bias', 'qa_outputs.weight']\n",
      "You should probably TRAIN this model on a down-stream task to be able to use it for predictions and inference.\n"
     ]
    },
    {
     "name": "stdout",
     "output_type": "stream",
     "text": [
      "Epoch 1, Loss: 69.2297\n",
      "Epoch 2, Loss: 63.3135\n",
      "Epoch 3, Loss: 59.3704\n",
      "Epoch 4, Loss: 55.8294\n",
      "Epoch 5, Loss: 49.5588\n",
      "Epoch 6, Loss: 45.2368\n",
      "Epoch 7, Loss: 41.4041\n",
      "Epoch 8, Loss: 36.7165\n"
     ]
    }
   ],
   "source": [
    "import torch\n",
    "from transformers import BertTokenizer, BertForQuestionAnswering, AdamW\n",
    "\n",
    "# Load pre-trained model and tokenizer\n",
    "model_name = \"bert-base-uncased\"\n",
    "tokenizer = BertTokenizer.from_pretrained(model_name)\n",
    "model = BertForQuestionAnswering.from_pretrained(model_name)\n",
    "\n",
    "# Prepare and tokenize your training data\n",
    "# Format: [{\"context\": \"...\", \"question\": \"...\", \"answer\": \"...\"}, ...]\n",
    "train_data = training_data[:15]  # Replace with your training data\n",
    "\n",
    "# Train the model\n",
    "optimizer = AdamW(model.parameters(), lr=2e-5)  # Adjust learning rate\n",
    "model.train()\n",
    "\n",
    "epochs = 8  # Adjust the number of epochs as needed\n",
    "\n",
    "for epoch in range(epochs):\n",
    "    total_loss = 0\n",
    "    for example in train_data:\n",
    "        context = example['context']\n",
    "        question = example['question']\n",
    "        answer = example['answer']\n",
    "\n",
    "        # Tokenize the context and question\n",
    "        encoded_data = tokenizer(context, question, padding='max_length', truncation=True, max_length=512, return_tensors='pt')\n",
    "\n",
    "        # Find the positions of the answer in the context\n",
    "        start_idx = context.find(answer)\n",
    "        end_idx = start_idx + len(answer)\n",
    "\n",
    "        if start_idx == -1:  # Handle cases where answer is not found\n",
    "            continue\n",
    "\n",
    "        # Prepare the inputs with the answer token positions\n",
    "        inputs = {\n",
    "            'input_ids': encoded_data['input_ids'],\n",
    "            'attention_mask': encoded_data['attention_mask'],\n",
    "            'start_positions': torch.tensor([start_idx]),\n",
    "            'end_positions': torch.tensor([end_idx])\n",
    "        }\n",
    "\n",
    "        optimizer.zero_grad()\n",
    "        outputs = model(**inputs)\n",
    "\n",
    "        # Check if the loss is valid (not NaN or inf)\n",
    "        loss = outputs.loss\n",
    "        if loss != loss:\n",
    "            continue  # Skip this batch if loss is NaN\n",
    "\n",
    "        loss.backward()\n",
    "        optimizer.step()\n",
    "\n",
    "        total_loss += loss.item()\n",
    "\n",
    "    print(f\"Epoch {epoch+1}, Loss: {total_loss:.4f}\")\n",
    "\n",
    "# Save the trained model\n",
    "model.save_pretrained(\"trained_qa_model\")\n"
   ]
  },
  {
   "cell_type": "code",
   "execution_count": 18,
   "metadata": {
    "executionInfo": {
     "elapsed": 12,
     "status": "ok",
     "timestamp": 1692376995564,
     "user": {
      "displayName": "Purushothaman Natarajan",
      "userId": "13347130037007284118"
     },
     "user_tz": -330
    },
    "id": "gPyC4BbGI70c"
   },
   "outputs": [],
   "source": [
    "def get_answer(context, question, model_path=\"trained_qa_model\", max_seq_length=512):\n",
    "    # Load the trained model and tokenizer\n",
    "    model = BertForQuestionAnswering.from_pretrained(model_path)\n",
    "    tokenizer = BertTokenizer.from_pretrained(\"bert-base-uncased\")  # Same tokenizer as training\n",
    "\n",
    "    # Tokenize the input question and context\n",
    "    encoded_data = tokenizer.encode_plus(\n",
    "        question,\n",
    "        context,\n",
    "        max_length=max_seq_length,\n",
    "        truncation='only_second',  # Choose 'only_first' or 'only_second' to handle overflow\n",
    "        padding='max_length',\n",
    "        return_tensors='pt',\n",
    "    )\n",
    "\n",
    "    # Get the model's predicted start and end positions\n",
    "    outputs = model(**encoded_data)\n",
    "    start_logits = outputs.start_logits\n",
    "    end_logits = outputs.end_logits\n",
    "\n",
    "    # Find the token positions with the maximum probabilities\n",
    "    start_idx = torch.argmax(start_logits)\n",
    "    end_idx = torch.argmax(end_logits)\n",
    "\n",
    "    # Retrieve the tokenized answer span\n",
    "    answer_tokens = encoded_data['input_ids'][0][start_idx:end_idx+1]\n",
    "    answer = tokenizer.decode(answer_tokens, skip_special_tokens=True)\n",
    "\n",
    "    return answer"
   ]
  },
  {
   "cell_type": "markdown",
   "metadata": {
    "id": "XVcQK49uebK-"
   },
   "source": [
    "# Training results\n",
    "\n",
    "we didn't train the module with relevant questions and answers, so the module won't perform as expected, we need more computational power to train the model with squad data or we can use our own data(q&a data) with some relevant question and answers for our need to respond with our framed questions."
   ]
  },
  {
   "cell_type": "code",
   "execution_count": 19,
   "metadata": {
    "colab": {
     "base_uri": "https://localhost:8080/"
    },
    "executionInfo": {
     "elapsed": 3099,
     "status": "ok",
     "timestamp": 1692376998661,
     "user": {
      "displayName": "Purushothaman Natarajan",
      "userId": "13347130037007284118"
     },
     "user_tz": -330
    },
    "id": "0AQiBf0AHV-9",
    "outputId": "4aa246da-27cb-4c51-a41a-4ec53683480a"
   },
   "outputs": [
    {
     "name": "stdout",
     "output_type": "stream",
     "text": [
      "Predicted Answer: .\n"
     ]
    }
   ],
   "source": [
    "question = 'which price?'\n",
    "predicted_answer = get_answer(context, question)\n",
    "print(\"Predicted Answer:\", predicted_answer)   #will return blank space if nothing is predicted"
   ]
  },
  {
   "cell_type": "code",
   "execution_count": 20,
   "metadata": {
    "colab": {
     "base_uri": "https://localhost:8080/"
    },
    "executionInfo": {
     "elapsed": 2582,
     "status": "ok",
     "timestamp": 1692377001239,
     "user": {
      "displayName": "Purushothaman Natarajan",
      "userId": "13347130037007284118"
     },
     "user_tz": -330
    },
    "id": "-7kNHY4pebK-",
    "outputId": "08f7bc2e-ceb6-49d2-df81-d00a84212b0a",
    "scrolled": true
   },
   "outputs": [
    {
     "name": "stdout",
     "output_type": "stream",
     "text": [
      "Predicted Answer: .\n"
     ]
    }
   ],
   "source": [
    "question = 'who is the wife character in the story?'\n",
    "predicted_answer = get_answer(context, question)\n",
    "print(\"Predicted Answer:\", predicted_answer)   #will return blank space if nothing is predicted"
   ]
  },
  {
   "cell_type": "markdown",
   "metadata": {
    "id": "WIObBcvNebK-"
   },
   "source": [
    "# Pre-trained modes that provide more accurate results are listed and executed below with the same input"
   ]
  },
  {
   "cell_type": "code",
   "execution_count": 21,
   "metadata": {
    "colab": {
     "base_uri": "https://localhost:8080/"
    },
    "executionInfo": {
     "elapsed": 86292,
     "status": "ok",
     "timestamp": 1692377087528,
     "user": {
      "displayName": "Purushothaman Natarajan",
      "userId": "13347130037007284118"
     },
     "user_tz": -330
    },
    "id": "EfJdTu9bebK-",
    "outputId": "8fef763e-5c42-4208-e956-2fdb631349ae"
   },
   "outputs": [
    {
     "name": "stdout",
     "output_type": "stream",
     "text": [
      "Answer: anna maggie\n"
     ]
    }
   ],
   "source": [
    "from transformers import pipeline\n",
    "\n",
    "nlp = pipeline(\"question-answering\", model=\"distilbert-base-cased-distilled-squad\", tokenizer=\"distilbert-base-cased\")\n",
    "\n",
    "context = text\n",
    "question = \"who is the main character in this story?\"\n",
    "\n",
    "# pipeline to answer the question\n",
    "result = nlp(question=question, context=context, padding=\"max_length\", truncation=True)\n",
    "\n",
    "print(\"Answer:\", result['answer'])"
   ]
  },
  {
   "cell_type": "code",
   "execution_count": 22,
   "metadata": {
    "colab": {
     "base_uri": "https://localhost:8080/"
    },
    "executionInfo": {
     "elapsed": 89852,
     "status": "ok",
     "timestamp": 1692377177368,
     "user": {
      "displayName": "Purushothaman Natarajan",
      "userId": "13347130037007284118"
     },
     "user_tz": -330
    },
    "id": "nqA0Kx4aebK_",
    "outputId": "932f87c4-366d-410f-ead6-1e80d01e3f36",
    "scrolled": true
   },
   "outputs": [
    {
     "name": "stdout",
     "output_type": "stream",
     "text": [
      "Answer: treasure child girl\n"
     ]
    }
   ],
   "source": [
    "#calling the pre-trained module, the execution time entirely depends on the size and length of the pdf file uploaded\n",
    "\n",
    "context = text\n",
    "question = 'what is missing in the story'\n",
    "\n",
    "# pipeline to answer the question\n",
    "result = nlp(question=question, context=context, padding=\"max_length\", truncation=True)\n",
    "\n",
    "print(\"Answer:\", result['answer'])"
   ]
  },
  {
   "cell_type": "markdown",
   "metadata": {
    "id": "VaFjcin5Eg3W"
   },
   "source": [
    "# Using a different pdf to verify the performance of the model"
   ]
  },
  {
   "cell_type": "code",
   "execution_count": 23,
   "metadata": {
    "executionInfo": {
     "elapsed": 185802,
     "status": "ok",
     "timestamp": 1692377363159,
     "user": {
      "displayName": "Purushothaman Natarajan",
      "userId": "13347130037007284118"
     },
     "user_tz": -330
    },
    "id": "pRQT_NNIebK_"
   },
   "outputs": [],
   "source": [
    "pdf_path = r\"/content/drive/MyDrive/Q&A from PDF - BERT module/romeo-and-juliet.pdf\" #For easy access using a variable here and calling the function.\n",
    "text = extract_text_from_pdf(pdf_path)\n",
    "text = to_lower(text)"
   ]
  },
  {
   "cell_type": "code",
   "execution_count": 24,
   "metadata": {
    "colab": {
     "base_uri": "https://localhost:8080/"
    },
    "executionInfo": {
     "elapsed": 123990,
     "status": "ok",
     "timestamp": 1692377487137,
     "user": {
      "displayName": "Purushothaman Natarajan",
      "userId": "13347130037007284118"
     },
     "user_tz": -330
    },
    "id": "1Dxxeqak2I6t",
    "outputId": "7f38cb24-a594-443e-e1f3-b0eb22d9a3e3"
   },
   "outputs": [
    {
     "name": "stdout",
     "output_type": "stream",
     "text": [
      "Answer: grave\n"
     ]
    }
   ],
   "source": [
    "#calling the pre-trained module, the execution time entirely depends on the size and length of the pdf file uploaded\n",
    "\n",
    "context = text\n",
    "question = \"where romeo met juliet?\"\n",
    "\n",
    "# Use the pipeline to answer the question\n",
    "result = nlp(question=question, context=context, padding=\"max_length\", truncation=True)\n",
    "\n",
    "print(\"Answer:\", result['answer'])"
   ]
  },
  {
   "cell_type": "code",
   "execution_count": 25,
   "metadata": {
    "executionInfo": {
     "elapsed": 12,
     "status": "ok",
     "timestamp": 1692377487137,
     "user": {
      "displayName": "Purushothaman Natarajan",
      "userId": "13347130037007284118"
     },
     "user_tz": -330
    },
    "id": "v2Ist7UX6lAf"
   },
   "outputs": [],
   "source": [
    "# UI interface"
   ]
  },
  {
   "cell_type": "code",
   "execution_count": 26,
   "metadata": {
    "executionInfo": {
     "elapsed": 8306,
     "status": "ok",
     "timestamp": 1692377495433,
     "user": {
      "displayName": "Purushothaman Natarajan",
      "userId": "13347130037007284118"
     },
     "user_tz": -330
    },
    "id": "LCA8zNPiZgtl"
   },
   "outputs": [],
   "source": [
    "!pip install -q gradio"
   ]
  },
  {
   "cell_type": "code",
   "execution_count": 27,
   "metadata": {
    "executionInfo": {
     "elapsed": 2499,
     "status": "ok",
     "timestamp": 1692377497928,
     "user": {
      "displayName": "Purushothaman Natarajan",
      "userId": "13347130037007284118"
     },
     "user_tz": -330
    },
    "id": "JFZiMCI8ZoSM"
   },
   "outputs": [],
   "source": [
    "import gradio as gr"
   ]
  },
  {
   "cell_type": "code",
   "execution_count": 28,
   "metadata": {
    "colab": {
     "base_uri": "https://localhost:8080/",
     "height": 833
    },
    "executionInfo": {
     "elapsed": 3025,
     "status": "ok",
     "timestamp": 1692377500949,
     "user": {
      "displayName": "Purushothaman Natarajan",
      "userId": "13347130037007284118"
     },
     "user_tz": -330
    },
    "id": "9m-hzKkSeu96",
    "outputId": "5edf4c50-417c-4695-f89e-0b41b404427e"
   },
   "outputs": [
    {
     "name": "stderr",
     "output_type": "stream",
     "text": [
      "<ipython-input-28-d8d5f12efd5e>:24: GradioDeprecationWarning: Usage of gradio.inputs is deprecated, and will not be supported in the future, please import your component from gradio.components\n",
      "  gr.inputs.File(label=\"Upload PDF file\", type=\"file\"),\n",
      "<ipython-input-28-d8d5f12efd5e>:24: GradioDeprecationWarning: `optional` parameter is deprecated, and it has no effect\n",
      "  gr.inputs.File(label=\"Upload PDF file\", type=\"file\"),\n",
      "<ipython-input-28-d8d5f12efd5e>:24: GradioDeprecationWarning: `keep_filename` parameter is deprecated, and it has no effect\n",
      "  gr.inputs.File(label=\"Upload PDF file\", type=\"file\"),\n",
      "<ipython-input-28-d8d5f12efd5e>:25: GradioDeprecationWarning: Usage of gradio.inputs is deprecated, and will not be supported in the future, please import your component from gradio.components\n",
      "  gr.inputs.Textbox(label=\"Enter your question\")\n",
      "<ipython-input-28-d8d5f12efd5e>:25: GradioDeprecationWarning: `optional` parameter is deprecated, and it has no effect\n",
      "  gr.inputs.Textbox(label=\"Enter your question\")\n",
      "<ipython-input-28-d8d5f12efd5e>:25: GradioDeprecationWarning: `numeric` parameter is deprecated, and it has no effect\n",
      "  gr.inputs.Textbox(label=\"Enter your question\")\n",
      "/usr/local/lib/python3.10/dist-packages/gradio/blocks.py:277: UserWarning: api_name predict already exists, using predict_1\n",
      "  warnings.warn(f\"api_name {api_name} already exists, using {api_name_}\")\n"
     ]
    },
    {
     "name": "stdout",
     "output_type": "stream",
     "text": [
      "Colab notebook detected. To show errors in colab notebook, set debug=True in launch()\n",
      "Running on public URL: https://8c6c2db067f81e55ec.gradio.live\n",
      "\n",
      "This share link expires in 72 hours. For free permanent hosting and GPU upgrades, run `gradio deploy` from Terminal to deploy to Spaces (https://huggingface.co/spaces)\n"
     ]
    },
    {
     "data": {
      "text/html": [
       "<div><iframe src=\"https://8c6c2db067f81e55ec.gradio.live\" width=\"100%\" height=\"500\" allow=\"autoplay; camera; microphone; clipboard-read; clipboard-write;\" frameborder=\"0\" allowfullscreen></iframe></div>"
      ],
      "text/plain": [
       "<IPython.core.display.HTML object>"
      ]
     },
     "metadata": {},
     "output_type": "display_data"
    },
    {
     "data": {
      "text/plain": []
     },
     "execution_count": 28,
     "metadata": {},
     "output_type": "execute_result"
    }
   ],
   "source": [
    "# Function to perform question answering\n",
    "def chat(pdf_file, question):\n",
    "    try:\n",
    "        # Validate uploaded PDF file\n",
    "        if os.path.splitext(pdf_file.name)[1].lower() != \".pdf\":\n",
    "            return \"Please upload a PDF file.\"\n",
    "\n",
    "        # Extract text from uploaded PDF\n",
    "        pdf_text = extract_text_from_pdf(pdf_file.name)\n",
    "\n",
    "        # Use the pipeline to answer the question\n",
    "        nlp = pipeline(\"question-answering\", model=\"distilbert-base-cased-distilled-squad\", tokenizer=\"distilbert-base-cased\")\n",
    "        result = nlp(question=question, context=pdf_text, padding=\"max_length\", truncation=True)\n",
    "        answer = result['answer']\n",
    "\n",
    "        return answer\n",
    "    except Exception as e:\n",
    "        # Log the exception for debugging purposes\n",
    "        print(\"An error occurred:\", e)\n",
    "        return \"An error occurred. Please try again later.\"\n",
    "\n",
    "# Define the input components for the interface\n",
    "input_components = [\n",
    "    gr.inputs.File(label=\"Upload PDF file\", type=\"file\"),\n",
    "    gr.inputs.Textbox(label=\"Enter your question\")\n",
    "]\n",
    "\n",
    "# Create the interface\n",
    "interface = gr.Interface(fn=chat, inputs=input_components, outputs=\"text\", live=True)\n",
    "\n",
    "# Launch the interface\n",
    "interface.launch(share=True)\n"
   ]
  },
  {
   "cell_type": "code",
   "execution_count": 28,
   "metadata": {
    "executionInfo": {
     "elapsed": 10,
     "status": "ok",
     "timestamp": 1692377500949,
     "user": {
      "displayName": "Purushothaman Natarajan",
      "userId": "13347130037007284118"
     },
     "user_tz": -330
    },
    "id": "pXb7GokBu1Ij"
   },
   "outputs": [],
   "source": []
  }
 ],
 "metadata": {
  "accelerator": "GPU",
  "colab": {
   "gpuType": "T4",
   "provenance": []
  },
  "kernelspec": {
   "display_name": "Python 3 (ipykernel)",
   "language": "python",
   "name": "python3"
  },
  "language_info": {
   "codemirror_mode": {
    "name": "ipython",
    "version": 3
   },
   "file_extension": ".py",
   "mimetype": "text/x-python",
   "name": "python",
   "nbconvert_exporter": "python",
   "pygments_lexer": "ipython3",
   "version": "3.10.9"
  }
 },
 "nbformat": 4,
 "nbformat_minor": 1
}
